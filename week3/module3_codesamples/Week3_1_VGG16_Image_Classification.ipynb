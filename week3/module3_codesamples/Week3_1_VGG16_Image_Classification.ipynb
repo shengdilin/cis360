{
 "cells": [
  {
   "cell_type": "markdown",
   "id": "b1fcd070",
   "metadata": {},
   "source": [
    "## Let's just load the VGG-16 model and see how it looks - \n",
    "\n",
    "Running the example will load the VGG16 model and download the model weights if required.\n",
    "\n",
    "The model can then be used directly to classify a photograph into one of 1,000 classes. In this case, the model architecture is summarized to confirm that it was loaded correctly.\n",
    "\n",
    "**We are not going to use VGG for Transfer learning in this Notebook. Just sse it's pre-trained model for image classification.**"
   ]
  },
  {
   "cell_type": "code",
   "execution_count": 1,
   "id": "bd1708d0",
   "metadata": {},
   "outputs": [
    {
     "name": "stdout",
     "output_type": "stream",
     "text": [
      "Downloading data from https://storage.googleapis.com/tensorflow/keras-applications/vgg16/vgg16_weights_tf_dim_ordering_tf_kernels.h5\n",
      "553467096/553467096 [==============================] - 17s 0us/step\n",
      "Model: \"vgg16\"\n",
      "_________________________________________________________________\n",
      " Layer (type)                Output Shape              Param #   \n",
      "=================================================================\n",
      " input_1 (InputLayer)        [(None, 224, 224, 3)]     0         \n",
      "                                                                 \n",
      " block1_conv1 (Conv2D)       (None, 224, 224, 64)      1792      \n",
      "                                                                 \n",
      " block1_conv2 (Conv2D)       (None, 224, 224, 64)      36928     \n",
      "                                                                 \n",
      " block1_pool (MaxPooling2D)  (None, 112, 112, 64)      0         \n",
      "                                                                 \n",
      " block2_conv1 (Conv2D)       (None, 112, 112, 128)     73856     \n",
      "                                                                 \n",
      " block2_conv2 (Conv2D)       (None, 112, 112, 128)     147584    \n",
      "                                                                 \n",
      " block2_pool (MaxPooling2D)  (None, 56, 56, 128)       0         \n",
      "                                                                 \n",
      " block3_conv1 (Conv2D)       (None, 56, 56, 256)       295168    \n",
      "                                                                 \n",
      " block3_conv2 (Conv2D)       (None, 56, 56, 256)       590080    \n",
      "                                                                 \n",
      " block3_conv3 (Conv2D)       (None, 56, 56, 256)       590080    \n",
      "                                                                 \n",
      " block3_pool (MaxPooling2D)  (None, 28, 28, 256)       0         \n",
      "                                                                 \n",
      " block4_conv1 (Conv2D)       (None, 28, 28, 512)       1180160   \n",
      "                                                                 \n",
      " block4_conv2 (Conv2D)       (None, 28, 28, 512)       2359808   \n",
      "                                                                 \n",
      " block4_conv3 (Conv2D)       (None, 28, 28, 512)       2359808   \n",
      "                                                                 \n",
      " block4_pool (MaxPooling2D)  (None, 14, 14, 512)       0         \n",
      "                                                                 \n",
      " block5_conv1 (Conv2D)       (None, 14, 14, 512)       2359808   \n",
      "                                                                 \n",
      " block5_conv2 (Conv2D)       (None, 14, 14, 512)       2359808   \n",
      "                                                                 \n",
      " block5_conv3 (Conv2D)       (None, 14, 14, 512)       2359808   \n",
      "                                                                 \n",
      " block5_pool (MaxPooling2D)  (None, 7, 7, 512)         0         \n",
      "                                                                 \n",
      " flatten (Flatten)           (None, 25088)             0         \n",
      "                                                                 \n",
      " fc1 (Dense)                 (None, 4096)              102764544 \n",
      "                                                                 \n",
      " fc2 (Dense)                 (None, 4096)              16781312  \n",
      "                                                                 \n",
      " predictions (Dense)         (None, 1000)              4097000   \n",
      "                                                                 \n",
      "=================================================================\n",
      "Total params: 138357544 (527.79 MB)\n",
      "Trainable params: 138357544 (527.79 MB)\n",
      "Non-trainable params: 0 (0.00 Byte)\n",
      "_________________________________________________________________\n"
     ]
    }
   ],
   "source": [
    "# Import Keras module for VGG16\n",
    "from keras.applications.vgg16 import VGG16\n",
    "\n",
    "# load the VGG model\n",
    "model = VGG16()\n",
    "\n",
    "# summarize the model\n",
    "model.summary()"
   ]
  },
  {
   "cell_type": "markdown",
   "id": "04c493fb",
   "metadata": {},
   "source": [
    "### Let's use standard VGG-16 for image classification without making any changes to the model"
   ]
  },
  {
   "cell_type": "code",
   "execution_count": 2,
   "id": "7603c963",
   "metadata": {},
   "outputs": [],
   "source": [
    "from keras.applications.vgg16 import decode_predictions\n",
    "from keras.applications.vgg16 import preprocess_input\n",
    "from keras.preprocessing import image"
   ]
  },
  {
   "cell_type": "code",
   "execution_count": 3,
   "id": "b52c3e6a",
   "metadata": {},
   "outputs": [],
   "source": [
    "import matplotlib.pyplot as plt \n",
    "from PIL import Image \n",
    "import seaborn as sns\n",
    "import pandas as pd \n",
    "import numpy as np \n",
    "import os "
   ]
  },
  {
   "cell_type": "code",
   "execution_count": 4,
   "id": "0dbe8d82",
   "metadata": {},
   "outputs": [],
   "source": [
    "## Instantiate th VGG16 model\n",
    "vgg16_model = VGG16()"
   ]
  },
  {
   "cell_type": "code",
   "execution_count": 5,
   "id": "ccce3e97",
   "metadata": {},
   "outputs": [
    {
     "name": "stdout",
     "output_type": "stream",
     "text": [
      "img1 type is:  <class 'PIL.Image.Image'>\n",
      "img1 type after to_array conversion is:  <class 'numpy.ndarray'>\n",
      "img1 ndarray shape:  (224, 224, 3)\n",
      "img1 ndarray shape after expanding shape:  (1, 224, 224, 3)\n"
     ]
    }
   ],
   "source": [
    "# Use one of the dog image\n",
    "img1_path = \"images/193.jpg\"\n",
    "\n",
    "## Load the image matching the target_size to the VGG InputLayer  [(None, 224, 224, 3)]    \n",
    "img1 = image.load_img(img1_path, target_size=(224,224))\n",
    "\n",
    "print(\"img1 type is: \", type(img1))\n",
    "\n",
    "img1 = image.img_to_array(img1)\n",
    "print(\"img1 type after to_array conversion is: \", type(img1))\n",
    "print(\"img1 ndarray shape: \", img1.shape)\n",
    "\n",
    "img1=np.expand_dims(img1, axis=0)\n",
    "print(\"img1 ndarray shape after expanding shape: \", img1.shape)\n",
    "\n",
    "# Preprocess the imput using the VGG16 preprocess_input\n",
    "img1 = preprocess_input(img1)"
   ]
  },
  {
   "cell_type": "code",
   "execution_count": 6,
   "id": "e6e7f827",
   "metadata": {},
   "outputs": [
    {
     "name": "stdout",
     "output_type": "stream",
     "text": [
      "1/1 [==============================] - 0s 269ms/step\n",
      "Downloading data from https://storage.googleapis.com/download.tensorflow.org/data/imagenet_class_index.json\n",
      "35363/35363 [==============================] - 0s 0us/step\n"
     ]
    },
    {
     "data": {
      "text/plain": [
       "[[('n02095314', 'wire-haired_fox_terrier', 0.7415944),\n",
       "  ('n02089973', 'English_foxhound', 0.09315787),\n",
       "  ('n02088364', 'beagle', 0.058063783)]]"
      ]
     },
     "execution_count": 6,
     "metadata": {},
     "output_type": "execute_result"
    }
   ],
   "source": [
    "## Get model predictions using VGG16\n",
    "img1_predict = vgg16_model.predict(img1)\n",
    "\n",
    "## Prediction is class and probablities. Let's have VGG decode predictions\n",
    "img1_preds = decode_predictions(img1_predict, top=3)\n",
    "\n",
    "# Print predictions for img1\n",
    "img1_preds"
   ]
  },
  {
   "cell_type": "markdown",
   "id": "e00da66f",
   "metadata": {},
   "source": [
    "### We just used VGG16 for image classification using it's pre-trained model. Let's try it on few more images\n",
    "\n",
    "--Uncomment different images to try a few"
   ]
  },
  {
   "cell_type": "code",
   "execution_count": 7,
   "id": "000e4ff4",
   "metadata": {},
   "outputs": [],
   "source": [
    "# Use one of the dog image\n",
    "img2_path = \"images/232.jpg\"\n",
    "#img2_path = \"images/oscars.jpg\"\n",
    "#img2_path = \"images/ped2.jpg\"\n",
    "#img2_path = \"images/cat1.jpg\"\n",
    "#img2_path = \"images/372.jpg\"\n",
    "\n",
    "## Load the image matching the target_size to the VGG InputLayer  [(None, 224, 224, 3)]    \n",
    "img2 = image.load_img(img2_path, target_size=(224,224))\n",
    "img2 = image.img_to_array(img2)\n",
    "img2=np.expand_dims(img2, axis=0)\n",
    "\n",
    "# Preprocess the imput using the VGG16 preprocess_input\n",
    "img2 = preprocess_input(img2)"
   ]
  },
  {
   "cell_type": "code",
   "execution_count": 8,
   "id": "f7de50a3",
   "metadata": {},
   "outputs": [
    {
     "name": "stdout",
     "output_type": "stream",
     "text": [
      "1/1 [==============================] - 0s 92ms/step\n"
     ]
    },
    {
     "data": {
      "text/plain": [
       "[[('n02099712', 'Labrador_retriever', 0.7983336),\n",
       "  ('n02099601', 'golden_retriever', 0.15458687),\n",
       "  ('n02104029', 'kuvasz', 0.028216088)]]"
      ]
     },
     "execution_count": 8,
     "metadata": {},
     "output_type": "execute_result"
    }
   ],
   "source": [
    "## Get model predictions using VGG16\n",
    "img2_predict = vgg16_model.predict(img2)\n",
    "\n",
    "## Prediction is class and probablities. Let's have VGG decode predictions\n",
    "img2_preds = decode_predictions(img2_predict, top=3)\n",
    "\n",
    "# Print predictions for img1\n",
    "img2_preds"
   ]
  },
  {
   "cell_type": "code",
   "execution_count": null,
   "id": "93862f68",
   "metadata": {},
   "outputs": [],
   "source": []
  }
 ],
 "metadata": {
  "kernelspec": {
   "display_name": "Python 3",
   "language": "python",
   "name": "python3"
  },
  "language_info": {
   "codemirror_mode": {
    "name": "ipython",
    "version": 3
   },
   "file_extension": ".py",
   "mimetype": "text/x-python",
   "name": "python",
   "nbconvert_exporter": "python",
   "pygments_lexer": "ipython3",
   "version": "3.9.13"
  }
 },
 "nbformat": 4,
 "nbformat_minor": 5
}
