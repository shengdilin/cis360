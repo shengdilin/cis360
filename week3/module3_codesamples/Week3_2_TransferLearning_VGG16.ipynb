{
 "cells": [
  {
   "cell_type": "markdown",
   "id": "0a323e94",
   "metadata": {},
   "source": [
    "# Transfer Learning using VGG-16\n",
    "\n",
    "Keras provides access to a number of top-performing pre-trained models that were developed for image recognition tasks.\n",
    "\n",
    "It include functions to load a model with or without the pre-trained weights, and prepare data in a way that a given model may expect (e.g. scaling of size and pixel values)."
   ]
  },
  {
   "cell_type": "code",
   "execution_count": 51,
   "id": "326ae93f",
   "metadata": {},
   "outputs": [],
   "source": [
    "from keras.layers import Input, Lambda, Dense, Flatten, GlobalAveragePooling2D, GlobalMaxPooling2D\n",
    "from keras.models import Model\n",
    "from keras.applications.vgg16 import VGG16\n",
    "from keras.applications.vgg16 import preprocess_input\n",
    "from keras.preprocessing import image\n",
    "from keras.preprocessing.image import ImageDataGenerator"
   ]
  },
  {
   "cell_type": "code",
   "execution_count": 52,
   "id": "12b382fd",
   "metadata": {},
   "outputs": [],
   "source": [
    "from sklearn.metrics import confusion_matrix\n",
    "import numpy as np\n",
    "import matplotlib.pyplot as plt"
   ]
  },
  {
   "cell_type": "markdown",
   "id": "ef20c95f",
   "metadata": {},
   "source": [
    "### Load a pre-trained VGG-16 model\n",
    "\n",
    "When loading a given model, the **“include_top”** argument can be set to **False**, in which case the fully-connected output layers of the model used to make predictions is not loaded, allowing a new output layer to be added and trained.\n",
    "\n",
    "The first time a pre-trained model is loaded, Keras will download the required model weights, which may take some time given the speed of your internet connection. Weights are stored in the .keras/models/ directory under your home directory and will be loaded from this location the next time that they are used.\n",
    "\n",
    "It will output something like Downloading data from https://storage.googleapis.com/tensorflow/keras-applications/vgg16/vgg16_weights_tf_dim_ordering_tf_kernels_notop.h5"
   ]
  },
  {
   "cell_type": "code",
   "execution_count": 53,
   "id": "5a6f9aa4",
   "metadata": {},
   "outputs": [],
   "source": [
    "# re-size all the images to this\n",
    "# Change this depending on dataset\n",
    "IMAGE_SIZE = [100, 100] "
   ]
  },
  {
   "cell_type": "code",
   "execution_count": 54,
   "id": "2cd35cab",
   "metadata": {},
   "outputs": [
    {
     "name": "stdout",
     "output_type": "stream",
     "text": [
      "Model: \"vgg16\"\n",
      "_________________________________________________________________\n",
      "Layer (type)                 Output Shape              Param #   \n",
      "=================================================================\n",
      "input_2 (InputLayer)         [(None, None, None, 3)]   0         \n",
      "_________________________________________________________________\n",
      "block1_conv1 (Conv2D)        (None, None, None, 64)    1792      \n",
      "_________________________________________________________________\n",
      "block1_conv2 (Conv2D)        (None, None, None, 64)    36928     \n",
      "_________________________________________________________________\n",
      "block1_pool (MaxPooling2D)   (None, None, None, 64)    0         \n",
      "_________________________________________________________________\n",
      "block2_conv1 (Conv2D)        (None, None, None, 128)   73856     \n",
      "_________________________________________________________________\n",
      "block2_conv2 (Conv2D)        (None, None, None, 128)   147584    \n",
      "_________________________________________________________________\n",
      "block2_pool (MaxPooling2D)   (None, None, None, 128)   0         \n",
      "_________________________________________________________________\n",
      "block3_conv1 (Conv2D)        (None, None, None, 256)   295168    \n",
      "_________________________________________________________________\n",
      "block3_conv2 (Conv2D)        (None, None, None, 256)   590080    \n",
      "_________________________________________________________________\n",
      "block3_conv3 (Conv2D)        (None, None, None, 256)   590080    \n",
      "_________________________________________________________________\n",
      "block3_pool (MaxPooling2D)   (None, None, None, 256)   0         \n",
      "_________________________________________________________________\n",
      "block4_conv1 (Conv2D)        (None, None, None, 512)   1180160   \n",
      "_________________________________________________________________\n",
      "block4_conv2 (Conv2D)        (None, None, None, 512)   2359808   \n",
      "_________________________________________________________________\n",
      "block4_conv3 (Conv2D)        (None, None, None, 512)   2359808   \n",
      "_________________________________________________________________\n",
      "block4_pool (MaxPooling2D)   (None, None, None, 512)   0         \n",
      "_________________________________________________________________\n",
      "block5_conv1 (Conv2D)        (None, None, None, 512)   2359808   \n",
      "_________________________________________________________________\n",
      "block5_conv2 (Conv2D)        (None, None, None, 512)   2359808   \n",
      "_________________________________________________________________\n",
      "block5_conv3 (Conv2D)        (None, None, None, 512)   2359808   \n",
      "_________________________________________________________________\n",
      "block5_pool (MaxPooling2D)   (None, None, None, 512)   0         \n",
      "=================================================================\n",
      "Total params: 14,714,688\n",
      "Trainable params: 14,714,688\n",
      "Non-trainable params: 0\n",
      "_________________________________________________________________\n"
     ]
    }
   ],
   "source": [
    "# load model without output layer and discards the last 1000 neuron layer.\n",
    "base_model = VGG16(include_top=False, weights='imagenet')\n",
    "\n",
    "base_model.summary()\n",
    "# You should not see the fully connected Dense layer in the summary below because of include_top=False\n",
    "# Compare this with the output when include_top=True"
   ]
  },
  {
   "cell_type": "code",
   "execution_count": 55,
   "id": "6c024939",
   "metadata": {},
   "outputs": [],
   "source": [
    "# training config:\n",
    "# Start with a smaller number for epochs and then go up as it would take longer\n",
    "epochs = 3\n",
    "batch_size = 32"
   ]
  },
  {
   "cell_type": "markdown",
   "id": "be3189c1",
   "metadata": {},
   "source": [
    "###  Fruit 360 Dataset from Kaggle - A dataset of images containing fruits and vegetables"
   ]
  },
  {
   "cell_type": "code",
   "execution_count": 56,
   "id": "4f9550dd",
   "metadata": {},
   "outputs": [],
   "source": [
    "# Dataset from Kaggle: https://www.kaggle.com/moltean/fruits\n",
    "train_path = '../Fruit360_small/Training'\n",
    "valid_path = '../Fruit360_small/Test'"
   ]
  },
  {
   "cell_type": "code",
   "execution_count": 57,
   "id": "6e8bf580",
   "metadata": {},
   "outputs": [],
   "source": [
    "from glob import glob\n",
    "# useful for getting number of files\n",
    "image_files = glob(train_path + '/*/*.jp*g')\n",
    "valid_image_files = glob(valid_path + '/*/*.jp*g')"
   ]
  },
  {
   "cell_type": "code",
   "execution_count": 58,
   "id": "e196485f",
   "metadata": {},
   "outputs": [],
   "source": [
    "# useful for getting number of classes\n",
    "folders = glob(train_path + '/*')"
   ]
  },
  {
   "cell_type": "markdown",
   "id": "880caa95",
   "metadata": {},
   "source": [
    "### Length of the folders is how many different classes of Fruits we have here"
   ]
  },
  {
   "cell_type": "code",
   "execution_count": 59,
   "id": "5d9d1771",
   "metadata": {},
   "outputs": [
    {
     "name": "stdout",
     "output_type": "stream",
     "text": [
      "7\n"
     ]
    }
   ],
   "source": [
    "print(len(folders))"
   ]
  },
  {
   "cell_type": "code",
   "execution_count": 60,
   "id": "e18049f6",
   "metadata": {},
   "outputs": [
    {
     "data": {
      "image/png": "[encoded data removed]",
      "text/plain": [
       "<Figure size 432x288 with 1 Axes>"
      ]
     },
     "metadata": {
      "needs_background": "light"
     },
     "output_type": "display_data"
    }
   ],
   "source": [
    "# look at an image for fun\n",
    "plt.imshow(image.img_to_array(image.load_img(np.random.choice(image_files))).astype('uint8'))\n",
    "plt.show()"
   ]
  },
  {
   "cell_type": "markdown",
   "id": "46bb0a9b",
   "metadata": {},
   "source": [
    "## Freeze the VGG layers\n",
    "\n",
    "Lets mark the original VGG layers as non-trainable. Since we only want to add our own fully connected Dense layer for classifying fruits"
   ]
  },
  {
   "cell_type": "code",
   "execution_count": 61,
   "id": "ef0c2d5b",
   "metadata": {},
   "outputs": [],
   "source": [
    "# don't train existing weights\n",
    "for layer in base_model.layers:\n",
    "  layer.trainable = False"
   ]
  },
  {
   "cell_type": "markdown",
   "id": "d0c61080",
   "metadata": {},
   "source": [
    "### Add our custom layers to classify fruits. Change below code depending on your dataset and problem."
   ]
  },
  {
   "cell_type": "code",
   "execution_count": 62,
   "id": "9044980d",
   "metadata": {},
   "outputs": [],
   "source": [
    "# our layers - you can add more if you want\n",
    "x = Flatten()(base_model.output)"
   ]
  },
  {
   "cell_type": "code",
   "execution_count": 63,
   "id": "ec760870",
   "metadata": {},
   "outputs": [
    {
     "data": {
      "text/plain": [
       "TensorShape([None, 512])"
      ]
     },
     "execution_count": 63,
     "metadata": {},
     "output_type": "execute_result"
    }
   ],
   "source": [
    "x=base_model.output\n",
    "x=GlobalMaxPooling2D()(x)\n",
    "x.shape"
   ]
  },
  {
   "cell_type": "code",
   "execution_count": 64,
   "id": "ebe0c1ab",
   "metadata": {},
   "outputs": [],
   "source": [
    "# WE WILL ADD A DENSE LAYER JUST FOR FUN\n",
    "x = Dense(1000, activation='relu')(x)\n",
    "\n",
    "# Add a Dense layer to classify Fruits. \n",
    "#Number of target class = number of folders in our fruit-360 dataset\n",
    "prediction = Dense(len(folders), activation='softmax')(x)"
   ]
  },
  {
   "cell_type": "code",
   "execution_count": 65,
   "id": "46eb7cb7",
   "metadata": {},
   "outputs": [],
   "source": [
    "# create a model object\n",
    "transfer_model = Model(inputs=base_model.input, outputs=prediction)"
   ]
  },
  {
   "cell_type": "markdown",
   "id": "b2de386d",
   "metadata": {},
   "source": [
    "## Let's view the structure of the model"
   ]
  },
  {
   "cell_type": "code",
   "execution_count": 66,
   "id": "735790b2",
   "metadata": {},
   "outputs": [
    {
     "name": "stdout",
     "output_type": "stream",
     "text": [
      "Model: \"model_2\"\n",
      "_________________________________________________________________\n",
      "Layer (type)                 Output Shape              Param #   \n",
      "=================================================================\n",
      "input_2 (InputLayer)         [(None, None, None, 3)]   0         \n",
      "_________________________________________________________________\n",
      "block1_conv1 (Conv2D)        (None, None, None, 64)    1792      \n",
      "_________________________________________________________________\n",
      "block1_conv2 (Conv2D)        (None, None, None, 64)    36928     \n",
      "_________________________________________________________________\n",
      "block1_pool (MaxPooling2D)   (None, None, None, 64)    0         \n",
      "_________________________________________________________________\n",
      "block2_conv1 (Conv2D)        (None, None, None, 128)   73856     \n",
      "_________________________________________________________________\n",
      "block2_conv2 (Conv2D)        (None, None, None, 128)   147584    \n",
      "_________________________________________________________________\n",
      "block2_pool (MaxPooling2D)   (None, None, None, 128)   0         \n",
      "_________________________________________________________________\n",
      "block3_conv1 (Conv2D)        (None, None, None, 256)   295168    \n",
      "_________________________________________________________________\n",
      "block3_conv2 (Conv2D)        (None, None, None, 256)   590080    \n",
      "_________________________________________________________________\n",
      "block3_conv3 (Conv2D)        (None, None, None, 256)   590080    \n",
      "_________________________________________________________________\n",
      "block3_pool (MaxPooling2D)   (None, None, None, 256)   0         \n",
      "_________________________________________________________________\n",
      "block4_conv1 (Conv2D)        (None, None, None, 512)   1180160   \n",
      "_________________________________________________________________\n",
      "block4_conv2 (Conv2D)        (None, None, None, 512)   2359808   \n",
      "_________________________________________________________________\n",
      "block4_conv3 (Conv2D)        (None, None, None, 512)   2359808   \n",
      "_________________________________________________________________\n",
      "block4_pool (MaxPooling2D)   (None, None, None, 512)   0         \n",
      "_________________________________________________________________\n",
      "block5_conv1 (Conv2D)        (None, None, None, 512)   2359808   \n",
      "_________________________________________________________________\n",
      "block5_conv2 (Conv2D)        (None, None, None, 512)   2359808   \n",
      "_________________________________________________________________\n",
      "block5_conv3 (Conv2D)        (None, None, None, 512)   2359808   \n",
      "_________________________________________________________________\n",
      "block5_pool (MaxPooling2D)   (None, None, None, 512)   0         \n",
      "_________________________________________________________________\n",
      "global_max_pooling2d_2 (Glob (None, 512)               0         \n",
      "_________________________________________________________________\n",
      "dense_11 (Dense)             (None, 1000)              513000    \n",
      "_________________________________________________________________\n",
      "dense_12 (Dense)             (None, 7)                 7007      \n",
      "=================================================================\n",
      "Total params: 15,234,695\n",
      "Trainable params: 520,007\n",
      "Non-trainable params: 14,714,688\n",
      "_________________________________________________________________\n"
     ]
    }
   ],
   "source": [
    "transfer_model.summary()"
   ]
  },
  {
   "cell_type": "code",
   "execution_count": 67,
   "id": "60db01b8",
   "metadata": {},
   "outputs": [],
   "source": [
    "# tell the model what cost and optimization method to use\n",
    "transfer_model.compile(\n",
    "  loss='categorical_crossentropy',\n",
    "  optimizer='Adam',\n",
    "  metrics=['accuracy']\n",
    ")"
   ]
  },
  {
   "cell_type": "code",
   "execution_count": 68,
   "id": "cb1cc544",
   "metadata": {},
   "outputs": [],
   "source": [
    "# create an instance of ImageDataGenerator. Using VGG16 preprocess_input\n",
    "gen = ImageDataGenerator(\n",
    "  rotation_range=20,\n",
    "  width_shift_range=0.1,\n",
    "  height_shift_range=0.1,\n",
    "  shear_range=0.1,\n",
    "  zoom_range=0.2,\n",
    "  horizontal_flip=True,\n",
    "  vertical_flip=True,\n",
    "  preprocessing_function=preprocess_input\n",
    ")"
   ]
  },
  {
   "cell_type": "code",
   "execution_count": 69,
   "id": "1979d3f6",
   "metadata": {},
   "outputs": [
    {
     "name": "stdout",
     "output_type": "stream",
     "text": [
      "Found 1181 images belonging to 7 classes.\n",
      "{'Apple Golden 1': 0, 'Avocado': 1, 'Banana': 2, 'Blueberry': 3, 'Cauliflower': 4, 'Cherry 1': 5, 'Eggplant': 6}\n"
     ]
    }
   ],
   "source": [
    "# get label mapping for confusion matrix plot later\n",
    "test_gen = gen.flow_from_directory(valid_path, target_size=IMAGE_SIZE)\n",
    "print(test_gen.class_indices)\n",
    "labels = [None] * len(test_gen.class_indices)\n",
    "for k, v in test_gen.class_indices.items():\n",
    "  labels[v] = k"
   ]
  },
  {
   "cell_type": "code",
   "execution_count": 71,
   "id": "d96993f6",
   "metadata": {},
   "outputs": [
    {
     "name": "stderr",
     "output_type": "stream",
     "text": [
      "Clipping input data to the valid range for imshow with RGB data ([0..1] for floats or [0..255] for integers).\n"
     ]
    },
    {
     "name": "stdout",
     "output_type": "stream",
     "text": [
      "min: -96.15733 max: 151.061\n"
     ]
    },
    {
     "data": {
      "image/png": "[encoded data removed]",
      "text/plain": [
       "<Figure size 432x288 with 1 Axes>"
      ]
     },
     "metadata": {
      "needs_background": "light"
     },
     "output_type": "display_data"
    }
   ],
   "source": [
    "# should be a strangely colored image (due to VGG weights being BGR)\n",
    "for x, y in test_gen:\n",
    "  print(\"min:\", x[0].min(), \"max:\", x[0].max())\n",
    "  plt.title(labels[np.argmax(y[0])])\n",
    "  plt.imshow(x[0])\n",
    "  plt.show()\n",
    "  break"
   ]
  },
  {
   "cell_type": "markdown",
   "id": "b2f9acb8",
   "metadata": {},
   "source": [
    "### Create generators for training and validation images"
   ]
  },
  {
   "cell_type": "code",
   "execution_count": 72,
   "id": "06329c36",
   "metadata": {},
   "outputs": [
    {
     "name": "stdout",
     "output_type": "stream",
     "text": [
      "Found 3533 images belonging to 7 classes.\n"
     ]
    }
   ],
   "source": [
    "train_generator = gen.flow_from_directory(\n",
    "  train_path,\n",
    "  target_size=IMAGE_SIZE,\n",
    "  shuffle=True,\n",
    "  batch_size=batch_size,\n",
    ")"
   ]
  },
  {
   "cell_type": "code",
   "execution_count": 73,
   "id": "5cffb13f",
   "metadata": {},
   "outputs": [
    {
     "name": "stdout",
     "output_type": "stream",
     "text": [
      "Found 1181 images belonging to 7 classes.\n"
     ]
    }
   ],
   "source": [
    "valid_generator = gen.flow_from_directory(\n",
    "  valid_path,\n",
    "  target_size=IMAGE_SIZE,\n",
    "  shuffle=True,\n",
    "  batch_size=batch_size,\n",
    ")"
   ]
  },
  {
   "cell_type": "markdown",
   "id": "8bd97f31",
   "metadata": {},
   "source": [
    "## fit the model"
   ]
  },
  {
   "cell_type": "code",
   "execution_count": 74,
   "id": "f5aaae13",
   "metadata": {},
   "outputs": [
    {
     "name": "stdout",
     "output_type": "stream",
     "text": [
      "Epoch 1/3\n",
      "110/110 [==============================] - 530s 5s/step - loss: 0.5313 - accuracy: 0.9706 - val_loss: 1.7769 - val_accuracy: 0.9748\n",
      "Epoch 2/3\n",
      "110/110 [==============================] - 491s 4s/step - loss: 0.0443 - accuracy: 0.9966 - val_loss: 1.6785 - val_accuracy: 0.9705\n",
      "Epoch 3/3\n",
      "110/110 [==============================] - 529s 5s/step - loss: 0.1289 - accuracy: 0.9949 - val_loss: 2.2434 - val_accuracy: 0.9731\n"
     ]
    }
   ],
   "source": [
    "r = transfer_model.fit_generator(\n",
    "  train_generator,\n",
    "  validation_data=valid_generator,\n",
    "  epochs=epochs,\n",
    "  steps_per_epoch=len(image_files) // batch_size,\n",
    "  validation_steps=len(valid_image_files) // batch_size,\n",
    ")"
   ]
  },
  {
   "cell_type": "code",
   "execution_count": 77,
   "id": "7d75d593",
   "metadata": {},
   "outputs": [],
   "source": [
    "def get_confusion_matrix(data_path, N):\n",
    "  # we need to see the data in the same order\n",
    "  # for both predictions and targets\n",
    "  print(\"Generating confusion matrix\", N)\n",
    "  predictions = []\n",
    "  targets = []\n",
    "  i = 0\n",
    "  for x, y in gen.flow_from_directory(data_path, target_size=IMAGE_SIZE, shuffle=False, batch_size=batch_size * 2):\n",
    "    i += 1\n",
    "    if i % 50 == 0:\n",
    "      print(i)\n",
    "    p = transfer_model.predict(x)\n",
    "    p = np.argmax(p, axis=1)\n",
    "    y = np.argmax(y, axis=1)\n",
    "    predictions = np.concatenate((predictions, p))\n",
    "    targets = np.concatenate((targets, y))\n",
    "    if len(targets) >= N:\n",
    "      break\n",
    "\n",
    "  cm = confusion_matrix(targets, predictions)\n",
    "  return cm\n"
   ]
  },
  {
   "cell_type": "code",
   "execution_count": 78,
   "id": "99f95012",
   "metadata": {},
   "outputs": [
    {
     "name": "stdout",
     "output_type": "stream",
     "text": [
      "Generating confusion matrix 3533\n",
      "Found 3533 images belonging to 7 classes.\n",
      "50\n",
      "[[492   0   0   0   0   0   0]\n",
      " [  0 427   0   0   0   0   0]\n",
      " [  0   0 490   0   0   0   0]\n",
      " [  0   0   0 461   0   1   0]\n",
      " [  0   0   0   0 702   0   0]\n",
      " [  0   0   0   0   0 483   9]\n",
      " [  0   0   0   0   0   0 468]]\n",
      "Generating confusion matrix 1181\n",
      "Found 1181 images belonging to 7 classes.\n",
      "[[163   0   0   0   1   0   0]\n",
      " [  0 143   0   0   0   0   0]\n",
      " [  0   0 166   0   0   0   0]\n",
      " [  0   0   0 154   0   0   0]\n",
      " [  0   0   0   0 234   0   0]\n",
      " [  0   0   0   0   0 162   2]\n",
      " [  2   0   0   1  23   0 130]]\n"
     ]
    }
   ],
   "source": [
    "cm = get_confusion_matrix(train_path, len(image_files))\n",
    "print(cm)\n",
    "valid_cm = get_confusion_matrix(valid_path, len(valid_image_files))\n",
    "print(valid_cm)"
   ]
  },
  {
   "cell_type": "code",
   "execution_count": 79,
   "id": "1b118013",
   "metadata": {},
   "outputs": [
    {
     "data": {
      "image/png": "[encoded data removed]",
      "text/plain": [
       "<Figure size 432x288 with 1 Axes>"
      ]
     },
     "metadata": {
      "needs_background": "light"
     },
     "output_type": "display_data"
    }
   ],
   "source": [
    "# loss\n",
    "plt.plot(r.history['loss'], label='train loss')\n",
    "plt.plot(r.history['val_loss'], label='val loss')\n",
    "plt.legend()\n",
    "plt.show()"
   ]
  },
  {
   "cell_type": "code",
   "execution_count": 80,
   "id": "5d9b86d3",
   "metadata": {},
   "outputs": [
    {
     "data": {
      "image/png": "[encoded data removed]",
      "text/plain": [
       "<Figure size 432x288 with 1 Axes>"
      ]
     },
     "metadata": {
      "needs_background": "light"
     },
     "output_type": "display_data"
    }
   ],
   "source": [
    "# accuracies\n",
    "plt.plot(r.history['accuracy'], label='train acc')\n",
    "plt.plot(r.history['val_accuracy'], label='val acc')\n",
    "plt.legend()\n",
    "plt.show()"
   ]
  },
  {
   "cell_type": "code",
   "execution_count": null,
   "id": "921ea87d",
   "metadata": {},
   "outputs": [],
   "source": []
  }
 ],
 "metadata": {
  "kernelspec": {
   "display_name": "Python 3",
   "language": "python",
   "name": "python3"
  },
  "language_info": {
   "codemirror_mode": {
    "name": "ipython",
    "version": 3
   },
   "file_extension": ".py",
   "mimetype": "text/x-python",
   "name": "python",
   "nbconvert_exporter": "python",
   "pygments_lexer": "ipython3",
   "version": "3.8.8"
  }
 },
 "nbformat": 4,
 "nbformat_minor": 5
}
