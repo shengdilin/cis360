{
 "cells": [
  {
   "cell_type": "markdown",
   "id": "b1fcd070",
   "metadata": {},
   "source": [
    "## Let's just load the Inception model and see how it looks - \n",
    "\n",
    "Running the example will load the Inception model and download the model weights if required.\n",
    "\n",
    "The model can then be used directly to classify a photograph into one of 1,000 classes. In this case, the model architecture is summarized to confirm that it was loaded correctly.\n",
    "\n",
    "**We are not going to use ResNet for Transfer learning in this Notebook. Just sse it's pre-trained model for image classification.**"
   ]
  },
  {
   "cell_type": "code",
   "execution_count": null,
   "id": "bd1708d0",
   "metadata": {},
   "outputs": [],
   "source": [
    "# Import Keras module for Inception\n",
    "# Note that Inception also provides preprocess_input, decode_predictions similar to VGG & ResNet\n",
    "# from keras.applications.resnet_v2 import ResNet50V2, preprocess_input, decode_predictions\n",
    "from keras.applications.inception_v3 import InceptionV3, preprocess_input, decode_predictions\n",
    "\n",
    "# load the InceptionV3 model\n",
    "model = InceptionV3()\n",
    "\n",
    "# summarize the model\n",
    "model.summary()"
   ]
  },
  {
   "cell_type": "markdown",
   "id": "04c493fb",
   "metadata": {},
   "source": [
    "### Let's use standard InceptionV3 for image classification without making any changes to the model\n",
    "\n",
    "**Note that we are not making any InceptionV3 specific code change below. The same code works with ResNet or VGG"
   ]
  },
  {
   "cell_type": "code",
   "execution_count": null,
   "id": "7603c963",
   "metadata": {},
   "outputs": [],
   "source": [
    "from keras.preprocessing import image"
   ]
  },
  {
   "cell_type": "code",
   "execution_count": null,
   "id": "b52c3e6a",
   "metadata": {},
   "outputs": [],
   "source": [
    "import matplotlib.pyplot as plt \n",
    "from PIL import Image \n",
    "import seaborn as sns\n",
    "import pandas as pd \n",
    "import numpy as np \n",
    "import os "
   ]
  },
  {
   "cell_type": "code",
   "execution_count": null,
   "id": "ccce3e97",
   "metadata": {},
   "outputs": [],
   "source": [
    "# Use one of the dog image\n",
    "img1_path = \"images/193.jpg\"\n",
    "\n",
    "## Load the image matching the target_size to the ResNet InputLayer  [(None, 224, 224, 3)]    \n",
    "img1 = image.load_img(img1_path, target_size=(224,224))\n",
    "\n",
    "print(\"img1 type is: \", type(img1))\n",
    "\n",
    "img1 = image.img_to_array(img1)\n",
    "print(\"img1 type after to_array conversion is: \", type(img1))\n",
    "print(\"img1 ndarray shape: \", img1.shape)\n",
    "\n",
    "img1=np.expand_dims(img1, axis=0)\n",
    "print(\"img1 ndarray shape after expanding shape: \", img1.shape)\n",
    "\n",
    "# Preprocess the imput using the ResNet preprocess_input\n",
    "img1 = preprocess_input(img1)"
   ]
  },
  {
   "cell_type": "code",
   "execution_count": null,
   "id": "e6e7f827",
   "metadata": {},
   "outputs": [],
   "source": [
    "## Get model predictions using ResNet\n",
    "img1_predict = model.predict(img1)\n",
    "\n",
    "## Prediction is class and probablities. Let's have ResNet decode predictions\n",
    "img1_preds = decode_predictions(img1_predict, top=3)\n",
    "\n",
    "# Print predictions for img1\n",
    "img1_preds"
   ]
  },
  {
   "cell_type": "markdown",
   "id": "e00da66f",
   "metadata": {},
   "source": [
    "### We just used ResNet for image classification using it's pre-trained model. Let's try it on few more images\n",
    "\n",
    "--Uncomment different images to try a few"
   ]
  },
  {
   "cell_type": "code",
   "execution_count": null,
   "id": "000e4ff4",
   "metadata": {},
   "outputs": [],
   "source": [
    "# Use one of the dog image\n",
    "img2_path = \"images/232.jpg\"\n",
    "#img2_path = \"images/oscars.jpg\"\n",
    "#img2_path = \"images/ped2.jpg\"\n",
    "#img2_path = \"images/cat1.jpg\"\n",
    "#img2_path = \"images/372.jpg\"\n",
    "\n",
    "## Load the image matching the target_size to the ResNet InputLayer  [(None, 224, 224, 3)]    \n",
    "img2 = image.load_img(img2_path, target_size=(224,224))\n",
    "img2 = image.img_to_array(img2)\n",
    "img2=np.expand_dims(img2, axis=0)\n",
    "\n",
    "# Preprocess the imput using the ResNet preprocess_input\n",
    "img2 = preprocess_input(img2)\n",
    "\n",
    "## Get model predictions using ResNet\n",
    "img2_predict = model.predict(img2)\n",
    "\n",
    "## Prediction is class and probablities. Let's have ResNet decode predictions\n",
    "img2_preds = decode_predictions(img2_predict, top=3)\n",
    "\n",
    "# Print predictions for img1\n",
    "img2_preds"
   ]
  },
  {
   "cell_type": "code",
   "execution_count": null,
   "id": "f7de50a3",
   "metadata": {},
   "outputs": [],
   "source": [
    "img2_predict"
   ]
  },
  {
   "cell_type": "code",
   "execution_count": null,
   "id": "3e1f3392",
   "metadata": {},
   "outputs": [],
   "source": []
  }
 ],
 "metadata": {
  "kernelspec": {
   "display_name": "Python 3",
   "language": "python",
   "name": "python3"
  },
  "language_info": {
   "codemirror_mode": {
    "name": "ipython",
    "version": 3
   },
   "file_extension": ".py",
   "mimetype": "text/x-python",
   "name": "python",
   "nbconvert_exporter": "python",
   "pygments_lexer": "ipython3",
   "version": "3.8.8"
  }
 },
 "nbformat": 4,
 "nbformat_minor": 5
}
