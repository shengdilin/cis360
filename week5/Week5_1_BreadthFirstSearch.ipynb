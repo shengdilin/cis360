{
 "cells": [
  {
   "cell_type": "markdown",
   "id": "2fdf8a04",
   "metadata": {},
   "source": [
    "# Breadth First Search\n",
    "\n",
    "### Making graphs\n",
    "BFS algorithm can be applied to traverse graphs or trees. To represent such data structures in Python, all we need to use is a dictionary where the vertices (or nodes) will be stored as keys and the adjacent vertices as values.\n",
    "\n",
    "We can represent both directed and undirected graphs with a dictionary data structure. \n",
    "\n",
    "**Let's crete undirected small graph**"
   ]
  },
  {
   "cell_type": "code",
   "execution_count": 1,
   "id": "13a3a8a9",
   "metadata": {},
   "outputs": [],
   "source": [
    "undirected_small_graph = {\n",
    "    'A': ['B', 'C'],\n",
    "    'B': ['D', 'A'],\n",
    "    'C': ['A'],\n",
    "    'D': ['B'],\n",
    "    'C': ['E', 'B']\n",
    "}"
   ]
  },
  {
   "cell_type": "code",
   "execution_count": 2,
   "id": "0f6bc08e",
   "metadata": {},
   "outputs": [
    {
     "data": {
      "text/plain": [
       "{'A': ['B', 'C'], 'B': ['D', 'A'], 'C': ['E', 'B'], 'D': ['B']}"
      ]
     },
     "execution_count": 2,
     "metadata": {},
     "output_type": "execute_result"
    }
   ],
   "source": [
    "undirected_small_graph"
   ]
  },
  {
   "cell_type": "markdown",
   "id": "8bd4694a",
   "metadata": {},
   "source": [
    "### BFS uses a queue and pops items from the front"
   ]
  },
  {
   "cell_type": "code",
   "execution_count": 3,
   "id": "40279b99",
   "metadata": {},
   "outputs": [],
   "source": [
    "from collections import deque"
   ]
  },
  {
   "cell_type": "markdown",
   "id": "897e447f",
   "metadata": {},
   "source": [
    "**All of the search algorithms will take a graph and a starting point and goal as input.**"
   ]
  },
  {
   "cell_type": "code",
   "execution_count": 4,
   "id": "3949d328",
   "metadata": {},
   "outputs": [],
   "source": [
    "def bfs(graph, start, goal):\n",
    "    visited = set()\n",
    "    queue = deque(start)\n",
    "    ## queue = [start]\n",
    "\n",
    "    while queue:\n",
    "        node = queue.pop()\n",
    "        if node not in visited:\n",
    "            visited.add(node)\n",
    "\n",
    "            if node == goal:\n",
    "                return\n",
    "            for neighbor in graph[node]:\n",
    "                if neighbor not in visited:\n",
    "                    queue.appendleft(neighbor)\n",
    "        \n",
    "        print(\"Visited nodes: \", visited)\n",
    "        print(\"Queue view:\", queue)"
   ]
  },
  {
   "cell_type": "code",
   "execution_count": 5,
   "id": "f7480ed4",
   "metadata": {},
   "outputs": [
    {
     "name": "stdout",
     "output_type": "stream",
     "text": [
      "Visited nodes:  {'A'}\n",
      "Queue view: deque(['C', 'B'])\n",
      "Visited nodes:  {'B', 'A'}\n",
      "Queue view: deque(['D', 'C'])\n",
      "Visited nodes:  {'B', 'A', 'C'}\n",
      "Queue view: deque(['E', 'D'])\n"
     ]
    }
   ],
   "source": [
    "# Use bfs to find a path from A to D\n",
    "bfs(undirected_small_graph, 'A', 'D')"
   ]
  },
  {
   "cell_type": "code",
   "execution_count": 6,
   "id": "4e387049",
   "metadata": {},
   "outputs": [
    {
     "name": "stdout",
     "output_type": "stream",
     "text": [
      "Visited nodes:  {'A'}\n",
      "Queue view: deque(['C', 'B'])\n",
      "Visited nodes:  {'B', 'A'}\n",
      "Queue view: deque(['D', 'C'])\n",
      "Visited nodes:  {'B', 'A', 'C'}\n",
      "Queue view: deque(['E', 'D'])\n",
      "Visited nodes:  {'D', 'B', 'A', 'C'}\n",
      "Queue view: deque(['E'])\n"
     ]
    }
   ],
   "source": [
    "# Use bfs to find a path from A to E\n",
    "bfs(undirected_small_graph, 'A', 'E')"
   ]
  },
  {
   "cell_type": "markdown",
   "id": "a661ec05",
   "metadata": {},
   "source": [
    "**Let's crete directed small graph**"
   ]
  },
  {
   "cell_type": "code",
   "execution_count": 7,
   "id": "3a49ded8",
   "metadata": {},
   "outputs": [],
   "source": [
    "directed_small_graph = {'A': ['B', 'C'], 'B':['D'], 'C':[], 'D':['E', 'F'], 'E':[], 'F':['G', 'H'], 'H':[], 'G':[]}"
   ]
  },
  {
   "cell_type": "code",
   "execution_count": 8,
   "id": "9400ba4a",
   "metadata": {},
   "outputs": [
    {
     "name": "stdout",
     "output_type": "stream",
     "text": [
      "Visited nodes:  {'A'}\n",
      "Queue view: deque(['C', 'B'])\n",
      "Visited nodes:  {'B', 'A'}\n",
      "Queue view: deque(['D', 'C'])\n",
      "Visited nodes:  {'B', 'A', 'C'}\n",
      "Queue view: deque(['D'])\n"
     ]
    }
   ],
   "source": [
    "bfs(directed_small_graph, 'A', 'D')"
   ]
  },
  {
   "cell_type": "code",
   "execution_count": 9,
   "id": "717122c9",
   "metadata": {},
   "outputs": [
    {
     "name": "stdout",
     "output_type": "stream",
     "text": [
      "Visited nodes:  {'B'}\n",
      "Queue view: deque(['D'])\n",
      "Visited nodes:  {'D', 'B'}\n",
      "Queue view: deque(['F', 'E'])\n",
      "Visited nodes:  {'D', 'B', 'E'}\n",
      "Queue view: deque(['F'])\n",
      "Visited nodes:  {'D', 'F', 'B', 'E'}\n",
      "Queue view: deque(['H', 'G'])\n"
     ]
    }
   ],
   "source": [
    "bfs(directed_small_graph, 'B', 'G')"
   ]
  },
  {
   "cell_type": "code",
   "execution_count": null,
   "id": "db553055",
   "metadata": {},
   "outputs": [],
   "source": []
  }
 ],
 "metadata": {
  "kernelspec": {
   "display_name": "Python 3",
   "language": "python",
   "name": "python3"
  },
  "language_info": {
   "codemirror_mode": {
    "name": "ipython",
    "version": 3
   },
   "file_extension": ".py",
   "mimetype": "text/x-python",
   "name": "python",
   "nbconvert_exporter": "python",
   "pygments_lexer": "ipython3",
   "version": "3.9.15"
  }
 },
 "nbformat": 4,
 "nbformat_minor": 5
}
