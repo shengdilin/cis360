{
 "cells": [
  {
   "cell_type": "markdown",
   "id": "6b74eb8f",
   "metadata": {},
   "source": [
    "# A* Search algorithm\n",
    "\n",
    "- The goal of this graph problem is to find the shortest path between a starting location and destination location. \n",
    "- A map has been used to create a graph with actual distances between locations. \n",
    "- The A* algorithm uses a Graph class, a Node class and heuristics to find the shortest path in a fast manner. \n",
    "- Heuristics is calculated as straight-line distances (air-travel distances) between locations, air-travel distances will never be larger than actual distances.\n",
    "\n",
    "[Source Code Credit: https://www.annytab.com/a-star-search-algorithm-in-python/]"
   ]
  },
  {
   "cell_type": "markdown",
   "id": "d4182b37",
   "metadata": {},
   "source": [
    "### Create Graph class"
   ]
  },
  {
   "cell_type": "code",
   "execution_count": null,
   "id": "c149aa05",
   "metadata": {},
   "outputs": [],
   "source": [
    "# This class represent a graph\n",
    "class Graph:\n",
    "    # Initialize the class\n",
    "    def __init__(self, graph_dict=None, directed=True):\n",
    "        self.graph_dict = graph_dict or {}\n",
    "        self.directed = directed\n",
    "        if not directed:\n",
    "            self.make_undirected()\n",
    "    \n",
    "    # Create an undirected graph by adding symmetric edges\n",
    "    def make_undirected(self):\n",
    "        for a in list(self.graph_dict.keys()):\n",
    "            for (b, dist) in self.graph_dict[a].items():\n",
    "                self.graph_dict.setdefault(b, {})[a] = dist\n",
    "    \n",
    "    # Add a link from A and B of given distance, and also add the inverse link if the graph is undirected\n",
    "    def connect(self, A, B, distance=1):\n",
    "        self.graph_dict.setdefault(A, {})[B] = distance\n",
    "        if not self.directed:\n",
    "            self.graph_dict.setdefault(B, {})[A] = distance\n",
    "    \n",
    "    # Get neighbors or a neighbor\n",
    "    def get(self, a, b=None):\n",
    "        links = self.graph_dict.setdefault(a, {})\n",
    "        if b is None:\n",
    "            return links\n",
    "        else:\n",
    "            return links.get(b)\n",
    "    \n",
    "    # Return a list of nodes in the graph\n",
    "    def nodes(self):\n",
    "        s1 = set([k for k in self.graph_dict.keys()])\n",
    "        s2 = set([k2 for v in self.graph_dict.values() for k2, v2 in v.items()])\n",
    "        nodes = s1.union(s2)\n",
    "        return list(nodes)"
   ]
  },
  {
   "cell_type": "markdown",
   "id": "468c7b8b",
   "metadata": {},
   "source": [
    "### Create Node class"
   ]
  },
  {
   "cell_type": "code",
   "execution_count": null,
   "id": "f215e765",
   "metadata": {},
   "outputs": [],
   "source": [
    "# This class represent a node\n",
    "class Node:\n",
    "    # Initialize the class\n",
    "    def __init__(self, name:str, parent:str):\n",
    "        self.name = name\n",
    "        self.parent = parent\n",
    "        self.g = 0 # Distance to start node\n",
    "        self.h = 0 # Distance to goal node\n",
    "        self.f = 0 # Total cost\n",
    "    \n",
    "    # Compare nodes\n",
    "    def __eq__(self, other):\n",
    "        return self.name == other.name\n",
    "    \n",
    "    # Sort nodes\n",
    "    def __lt__(self, other):\n",
    "         return self.f < other.f\n",
    "    \n",
    "    # Print node\n",
    "    def __repr__(self):\n",
    "        return ('({0},{1})'.format(self.name, self.f))"
   ]
  },
  {
   "cell_type": "markdown",
   "id": "309ee5cb",
   "metadata": {},
   "source": [
    "### Implement A* search algorithm"
   ]
  },
  {
   "cell_type": "code",
   "execution_count": null,
   "id": "33fa096a",
   "metadata": {},
   "outputs": [],
   "source": [
    "# A* search\n",
    "def astar_search(graph, heuristics, start, end):\n",
    "    \n",
    "    # Create lists for open nodes and closed nodes\n",
    "    open = []\n",
    "    closed = []\n",
    "    # Create a start node and an goal node\n",
    "    start_node = Node(start, None)\n",
    "    goal_node = Node(end, None)\n",
    "    # Add the start node\n",
    "    open.append(start_node)\n",
    "    \n",
    "    # Loop until the open list is empty\n",
    "    while len(open) > 0:\n",
    "        # Sort the open list to get the node with the lowest cost first\n",
    "        open.sort()\n",
    "        # Get the node with the lowest cost\n",
    "        current_node = open.pop(0)\n",
    "        # Add the current node to the closed list\n",
    "        closed.append(current_node)\n",
    "        \n",
    "        # Check if we have reached the goal, return the path\n",
    "        if current_node == goal_node:\n",
    "            path = []\n",
    "            while current_node != start_node:\n",
    "                path.append(current_node.name + ': ' + str(current_node.g))\n",
    "                current_node = current_node.parent\n",
    "            path.append(start_node.name + ': ' + str(start_node.g))\n",
    "            # Return reversed path\n",
    "            return path[::-1]\n",
    "        # Get neighbours\n",
    "        neighbors = graph.get(current_node.name)\n",
    "        # Loop neighbors\n",
    "        for key, value in neighbors.items():\n",
    "            # Create a neighbor node\n",
    "            neighbor = Node(key, current_node)\n",
    "            # Check if the neighbor is in the closed list\n",
    "            if(neighbor in closed):\n",
    "                continue\n",
    "            # Calculate full path cost\n",
    "            neighbor.g = current_node.g + graph.get(current_node.name, neighbor.name)\n",
    "            neighbor.h = heuristics.get(neighbor.name)\n",
    "            neighbor.f = neighbor.g + neighbor.h\n",
    "            # Check if neighbor is in open list and if it has a lower f value\n",
    "            if(add_to_open(open, neighbor) == True):\n",
    "                # Everything is green, add neighbor to open list\n",
    "                open.append(neighbor)\n",
    "    # Return None, no path is found\n",
    "    return None"
   ]
  },
  {
   "cell_type": "code",
   "execution_count": null,
   "id": "26bdb65d",
   "metadata": {},
   "outputs": [],
   "source": [
    "# Check if a neighbor should be added to open list\n",
    "def add_to_open(open, neighbor):\n",
    "    for node in open:\n",
    "        if (neighbor == node and neighbor.f > node.f):\n",
    "            return False\n",
    "    return True"
   ]
  },
  {
   "attachments": {
    "image.png": {
     "image/png": "[encoded data removed]"
    }
   },
   "cell_type": "markdown",
   "id": "fa11de5e",
   "metadata": {},
   "source": [
    "## Use the Graph and Node class and perform A* search\n",
    "\n",
    "![image.png](attachment:image.png)"
   ]
  },
  {
   "cell_type": "code",
   "execution_count": null,
   "id": "d1e7bd08",
   "metadata": {},
   "outputs": [],
   "source": [
    "# Create a graph\n",
    "graph = Graph()\n",
    "\n",
    "# Create graph connections (Actual distance)\n",
    "graph.connect('S', 'A', 3)\n",
    "graph.connect('S', 'D', 2)\n",
    "graph.connect('A', 'B', 5)\n",
    "graph.connect('A', 'C', 10)\n",
    "graph.connect('B', 'C', 2)\n",
    "graph.connect('B', 'E', 1)\n",
    "graph.connect('C', 'G', 4)\n",
    "graph.connect('D', 'E', 4)\n",
    "graph.connect('D', 'B', 1)\n",
    "graph.connect('E', 'G', 3)\n",
    "\n",
    "# Make graph undirected, create symmetric connections\n",
    "graph.make_undirected()"
   ]
  },
  {
   "cell_type": "code",
   "execution_count": null,
   "id": "e7ab7f33",
   "metadata": {},
   "outputs": [],
   "source": [
    "# Create heuristics (straight-line distance, air-travel distance)\n",
    "heuristics = {}\n",
    "heuristics['S'] = 7\n",
    "heuristics['A'] = 9\n",
    "heuristics['B'] = 4\n",
    "heuristics['C'] = 2\n",
    "heuristics['D'] = 5\n",
    "heuristics['E'] = 3\n",
    "heuristics['G'] = 0"
   ]
  },
  {
   "cell_type": "code",
   "execution_count": null,
   "id": "433f4601",
   "metadata": {},
   "outputs": [],
   "source": [
    " # Run the search algorithm\n",
    "path = astar_search(graph, heuristics, 'S', 'G')\n",
    "print(path)"
   ]
  },
  {
   "cell_type": "code",
   "execution_count": null,
   "id": "0ab9a9e0",
   "metadata": {},
   "outputs": [],
   "source": [
    " # Run the search algorithm\n",
    "path = astar_search(graph, heuristics, 'S', 'C')\n",
    "print(path)"
   ]
  },
  {
   "cell_type": "code",
   "execution_count": null,
   "id": "9dbb1e2d",
   "metadata": {},
   "outputs": [],
   "source": [
    " # Run the search algorithm\n",
    "path = astar_search(graph, heuristics, 'S', 'B')\n",
    "print(path)"
   ]
  },
  {
   "cell_type": "code",
   "execution_count": null,
   "id": "47060815",
   "metadata": {},
   "outputs": [],
   "source": []
  }
 ],
 "metadata": {
  "kernelspec": {
   "display_name": "Python 3",
   "language": "python",
   "name": "python3"
  },
  "language_info": {
   "codemirror_mode": {
    "name": "ipython",
    "version": 3
   },
   "file_extension": ".py",
   "mimetype": "text/x-python",
   "name": "python",
   "nbconvert_exporter": "python",
   "pygments_lexer": "ipython3",
   "version": "3.8.8"
  }
 },
 "nbformat": 4,
 "nbformat_minor": 5
}
