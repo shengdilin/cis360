{
 "cells": [
  {
   "cell_type": "markdown",
   "id": "e2f072c7",
   "metadata": {},
   "source": [
    "# Speech Recognition using Audio file input\n",
    "\n",
    "Speech recognition engine/API supports CMU Sphinx (works offline), Google Speech Recognition and other Speech APIs (including IBM and Google Speech-to-text)"
   ]
  },
  {
   "cell_type": "markdown",
   "id": "8b566ea6",
   "metadata": {},
   "source": [
    " ### Use Google Speech Recognition\n",
    " \n",
    " SpeechRecognition library comes with hard-coded Google API key that we can use for demo purpose"
   ]
  },
  {
   "cell_type": "code",
   "execution_count": 5,
   "id": "56264ac5",
   "metadata": {},
   "outputs": [],
   "source": [
    "import speech_recognition as sr\n",
    "\n",
    "# obtain path to \"english.wav\" in the same folder as this script\n",
    "from os import path\n",
    "AUDIO_FILE =  \"SampleData-SiriAzureGoogleTalk1.wav\"\n",
    "\n",
    "\n",
    "# use the audio file as the audio source\n",
    "r = sr.Recognizer()\n",
    "with sr.AudioFile(AUDIO_FILE) as source:\n",
    "    audio = r.record(source)  # read the entire audio file"
   ]
  },
  {
   "cell_type": "code",
   "execution_count": 6,
   "id": "2112be58",
   "metadata": {},
   "outputs": [
    {
     "name": "stdout",
     "output_type": "stream",
     "text": [
      "Google Speech Recognition thinks you said hey Siri how is the weather in Chicago for today and tomorrow how far is New York City from Los Angeles California\n"
     ]
    }
   ],
   "source": [
    "# recognize speech using Google Speech Recognition\n",
    "try:\n",
    "    # for testing purposes, we're just using the default API key\n",
    "    # to use another API key, use `r.recognize_google(audio, key=\"GOOGLE_SPEECH_RECOGNITION_API_KEY\")`\n",
    "    # instead of `r.recognize_google(audio)`\n",
    "    print(\"Google Speech Recognition thinks you said \" + r.recognize_google(audio))\n",
    "    \n",
    "except sr.UnknownValueError:\n",
    "    print(\"Google Speech Recognition could not understand audio\")\n",
    "    \n",
    "except sr.RequestError as e:\n",
    "    print(\"Could not request results from Google Speech Recognition service; {0}\".format(e))"
   ]
  },
  {
   "cell_type": "code",
   "execution_count": null,
   "id": "712f6324",
   "metadata": {},
   "outputs": [],
   "source": []
  }
 ],
 "metadata": {
  "kernelspec": {
   "display_name": "Python 3",
   "language": "python",
   "name": "python3"
  },
  "language_info": {
   "codemirror_mode": {
    "name": "ipython",
    "version": 3
   },
   "file_extension": ".py",
   "mimetype": "text/x-python",
   "name": "python",
   "nbconvert_exporter": "python",
   "pygments_lexer": "ipython3",
   "version": "3.8.8"
  }
 },
 "nbformat": 4,
 "nbformat_minor": 5
}
