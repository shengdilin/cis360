{
 "cells": [
  {
   "cell_type": "markdown",
   "id": "e2f072c7",
   "metadata": {},
   "source": [
    "# Speech Recognition using Microphone input\n",
    "\n",
    "Speech recognition engine/API supports CMU Sphinx (works offline), Google Speech Recognition and other Speech APIs (including IBM and Google Speech-to-text)"
   ]
  },
  {
   "cell_type": "markdown",
   "id": "8b566ea6",
   "metadata": {},
   "source": [
    " ### Use Google Speech Recognition\n",
    " \n",
    " SpeechRecognition library comes with hard-coded Google API key that we can use for demo purpose"
   ]
  },
  {
   "cell_type": "code",
   "execution_count": 8,
   "id": "b3aa8efb",
   "metadata": {},
   "outputs": [
    {
     "name": "stdout",
     "output_type": "stream",
     "text": [
      "Say something!\n",
      "Google Speech Recognition thinks you said hey Siri what is artificial intelligence\n"
     ]
    }
   ],
   "source": [
    "import speech_recognition as sr\n",
    "\n",
    "# obtain audio from the microphone\n",
    "r = sr.Recognizer()\n",
    "with sr.Microphone() as source:\n",
    "    print(\"Say something!\")\n",
    "    audio = r.listen(source)\n",
    "    \n",
    "    \n",
    "# recognize speech using Google Speech Recognition\n",
    "try:\n",
    "    # for testing purposes, we're just using the default API key\n",
    "    # to use another API key, use `r.recognize_google(audio, key=\"GOOGLE_SPEECH_RECOGNITION_API_KEY\")`\n",
    "    # instead of `r.recognize_google(audio)`\n",
    "    print(\"Google Speech Recognition thinks you said \" + r.recognize_google(audio))\n",
    "except sr.UnknownValueError:\n",
    "    print(\"Google Speech Recognition could not understand audio\")\n",
    "except sr.RequestError as e:\n",
    "    print(\"Could not request results from Google Speech Recognition service; {0}\".format(e))"
   ]
  },
  {
   "cell_type": "code",
   "execution_count": null,
   "id": "4a18a729",
   "metadata": {},
   "outputs": [],
   "source": []
  },
  {
   "cell_type": "markdown",
   "id": "7f3293af",
   "metadata": {},
   "source": [
    "If above code does not work then change Microphone() to Microphone(device_index=MICROPHONE_INDEX), where MICROPHONE_INDEX is the hardware-specific index of the microphone.\n",
    "\n",
    "To figure out what the value of MICROPHONE_INDEX should be, run the following code:"
   ]
  },
  {
   "cell_type": "code",
   "execution_count": null,
   "id": "c5340df5",
   "metadata": {},
   "outputs": [],
   "source": [
    "import speech_recognition as sr\n",
    "for index, name in enumerate(sr.Microphone.list_microphone_names()):\n",
    "    print(\"Microphone with name \\\"{1}\\\" found for `Microphone(device_index={0})`\".format(index, name))"
   ]
  }
 ],
 "metadata": {
  "kernelspec": {
   "display_name": "Python 3",
   "language": "python",
   "name": "python3"
  },
  "language_info": {
   "codemirror_mode": {
    "name": "ipython",
    "version": 3
   },
   "file_extension": ".py",
   "mimetype": "text/x-python",
   "name": "python",
   "nbconvert_exporter": "python",
   "pygments_lexer": "ipython3",
   "version": "3.8.8"
  }
 },
 "nbformat": 4,
 "nbformat_minor": 5
}
