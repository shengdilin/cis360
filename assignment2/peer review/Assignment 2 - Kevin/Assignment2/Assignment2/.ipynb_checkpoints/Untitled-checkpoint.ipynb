{
 "cells": [
  {
   "cell_type": "code",
   "execution_count": null,
   "id": "a91fa08a",
   "metadata": {},
   "outputs": [],
   "source": [
    "import tensorflow as tf\n",
    "from tensorflow.keras.applications import ResNet50V2\n",
    "from tensorflow.keras.layers import Conv2D, Dense, Flatten\n",
    "from tensorflow.keras.models import Model\n",
    "\n",
    "# Load the pre-trained ResNet50V2 model without the top classification layer\n",
    "base_model = ResNet50V2(weights='imagenet', include_top=False, input_shape=(224, 224, 3))\n",
    "\n",
    "# Freeze the base model layers\n",
    "base_model.trainable = False\n",
    "\n",
    "# Add a new detection head for face detection\n",
    "x = base_model.output\n",
    "x = Conv2D(256, (3, 3), activation='relu')(x)\n",
    "x = Flatten()(x)\n",
    "x = Dense(256, activation='relu')(x)\n",
    "output_bbox = Dense(4, activation='sigmoid', name='bounding_box')(x)  # Output for bounding box coordinates\n",
    "output_confidence = Dense(1, activation='sigmoid', name='confidence')(x)  # Output for confidence score\n",
    "model = Model(inputs=base_model.input, outputs=[output_bbox, output_confidence])\n",
    "\n",
    "# Compile the model\n",
    "model.compile(optimizer='adam', loss={'bounding_box': 'mse', 'confidence': 'binary_crossentropy'})\n",
    "\n",
    "# Display model summary\n",
    "model.summary()\n"
   ]
  },
  {
   "cell_type": "code",
   "execution_count": null,
   "id": "2d65af99",
   "metadata": {},
   "outputs": [],
   "source": [
    "from tensorflow.keras.preprocessing import image\n",
    "from tensorflow.keras.applications.resnet_v2 import preprocess_input\n",
    "import matplotlib.pyplot as plt\n",
    "import numpy as np\n",
    "\n",
    "# Load the image\n",
    "img_path = 'Dataset/bradpitt.jpeg'\n",
    "img = image.load_img(img_path, target_size=(224, 224))\n",
    "\n",
    "# Display the image\n",
    "plt.imshow(img)\n",
    "plt.axis('off')\n",
    "plt.show()\n",
    "\n",
    "# Convert the image to a numpy array\n",
    "img_array = image.img_to_array(img)\n",
    "\n",
    "# Expand the dimensions to match the model input shape\n",
    "img_array = np.expand_dims(img_array, axis=0)\n",
    "\n",
    "# Preprocess the image using ResNet preprocess_input\n",
    "img_preprocessed = preprocess_input(img_array)\n",
    "\n",
    "print(\"img_preprocessed shape:\", img_preprocessed.shape)\n"
   ]
  },
  {
   "cell_type": "code",
   "execution_count": 3,
   "id": "3eb6c84c",
   "metadata": {},
   "outputs": [
    {
     "name": "stdout",
     "output_type": "stream",
     "text": [
      "\u001b[1m1/1\u001b[0m \u001b[32m━━━━━━━━━━━━━━━━━━━━\u001b[0m\u001b[37m\u001b[0m \u001b[1m4s\u001b[0m 4s/step\n",
      "Predicted bounding box coordinates: [[0.3570872  0.14766237 0.1493346  0.70116615]]\n",
      "Predicted confidence score: [[0.94747865]]\n"
     ]
    }
   ],
   "source": [
    "# Use the model to make predictions\n",
    "bbox_pred, confidence_pred = model.predict(img_preprocessed)\n",
    "\n",
    "# Display the predicted bounding box coordinates and confidence score\n",
    "print(\"Predicted bounding box coordinates:\", bbox_pred)\n",
    "print(\"Predicted confidence score:\", confidence_pred)\n"
   ]
  },
  {
   "cell_type": "code",
   "execution_count": null,
   "id": "f18a2b75",
   "metadata": {},
   "outputs": [],
   "source": [
    "import cv2\n",
    "\n",
    "# Load the original image again (assuming you have it loaded)\n",
    "img = cv2.imread('Dataset/bradpitt.jpeg')\n",
    "original_height, original_width = img.shape[:2]\n",
    "\n",
    "# Convert normalized bounding box coordinates to pixel coordinates\n",
    "xmin = int(bbox_pred[0][0] * original_width)\n",
    "ymin = int(bbox_pred[0][1] * original_height)\n",
    "xmax = int(bbox_pred[0][2] * original_width)\n",
    "ymax = int(bbox_pred[0][3] * original_height)\n",
    "\n",
    "# Draw the bounding box on the original image\n",
    "cv2.rectangle(img, (xmin, ymin), (xmax, ymax), (0, 255, 0), 2)\n",
    "\n",
    "# Display the image with the bounding box and confidence score\n",
    "cv2.putText(img, f\"Confidence: {confidence_pred[0][0]:.2f}\", (xmin, ymin - 10), cv2.FONT_HERSHEY_SIMPLEX, 0.5, (0, 255, 0), 2)\n",
    "cv2.imshow('Face Detection', img)\n",
    "cv2.waitKey(0)\n",
    "cv2.destroyAllWindows()\n"
   ]
  },
  {
   "cell_type": "code",
   "execution_count": null,
   "id": "ff7b8214",
   "metadata": {},
   "outputs": [],
   "source": []
  }
 ],
 "metadata": {
  "kernelspec": {
   "display_name": "Python 3 (ipykernel)",
   "language": "python",
   "name": "python3"
  },
  "language_info": {
   "codemirror_mode": {
    "name": "ipython",
    "version": 3
   },
   "file_extension": ".py",
   "mimetype": "text/x-python",
   "name": "python",
   "nbconvert_exporter": "python",
   "pygments_lexer": "ipython3",
   "version": "3.11.4"
  }
 },
 "nbformat": 4,
 "nbformat_minor": 5
}
