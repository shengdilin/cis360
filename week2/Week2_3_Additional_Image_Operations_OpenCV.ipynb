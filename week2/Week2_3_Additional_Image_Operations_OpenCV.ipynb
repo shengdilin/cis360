{
 "cells": [
  {
   "cell_type": "markdown",
   "id": "0ec84372",
   "metadata": {},
   "source": [
    "# Thresholding Operation\n",
    "\n",
    "- In this operation all the intensity values after a certain threshold value I is mapped to maximum while the ones before I are mapped to zero. This helps in creating a binary image."
   ]
  },
  {
   "cell_type": "code",
   "execution_count": null,
   "id": "dd163c64",
   "metadata": {},
   "outputs": [],
   "source": [
    "# Import the OpenCV library\n",
    "import cv2\n",
    "\n",
    "import numpy as np\n",
    "import matplotlib.pyplot as plt\n",
    "%matplotlib inline"
   ]
  },
  {
   "cell_type": "code",
   "execution_count": null,
   "id": "75cb45e4",
   "metadata": {},
   "outputs": [],
   "source": [
    "# Read an image with puppy and person in grayscale \n",
    "img1_gray = cv2.imread('images/372.jpg', cv2.IMREAD_GRAYSCALE)\n",
    "plt.imshow(img1_gray, cmap=\"gray\")"
   ]
  },
  {
   "cell_type": "markdown",
   "id": "ab22bc1d",
   "metadata": {},
   "source": [
    "**cv2.THRESH_BINARY: If pixel intensity is greater than the set threshold, value set to 255, else set to 0 (black).**"
   ]
  },
  {
   "cell_type": "code",
   "execution_count": null,
   "id": "ef1e9cb9",
   "metadata": {},
   "outputs": [],
   "source": [
    "# You can try with the different threshold values below\n",
    "ret, thresh_img1 = cv2.threshold(img1_gray, 120, 255, cv2.THRESH_BINARY)\n",
    "print(\"Output with THRESH_BINARY with threshold set at: \", ret)\n",
    "\n",
    "plt.imshow(thresh_img1, cmap='gray')"
   ]
  },
  {
   "cell_type": "markdown",
   "id": "56293d62",
   "metadata": {},
   "source": [
    "**cv2.THRESH_BINARY_INV: Inverted or Opposite case of cv2.THRESH_BINARY**"
   ]
  },
  {
   "cell_type": "code",
   "execution_count": null,
   "id": "72dd9bf5",
   "metadata": {},
   "outputs": [],
   "source": [
    "# You can try with the different threshold values below\n",
    "ret, thresh_img1 = cv2.threshold(img1_gray, 120, 255, cv2.THRESH_BINARY_INV)\n",
    "print(\"Output with THRESH_BINARY_INV with threshold set at: \", ret)\n",
    "\n",
    "plt.imshow(thresh_img1, cmap='gray')"
   ]
  },
  {
   "cell_type": "markdown",
   "id": "5209cfdf",
   "metadata": {},
   "source": [
    "**ADAPTIVE THRESHOLD - Applies an adaptive threshold to an array.**"
   ]
  },
  {
   "cell_type": "code",
   "execution_count": null,
   "id": "e474f934",
   "metadata": {},
   "outputs": [],
   "source": [
    "# Play around with these last 2 numbers\n",
    "adaptive_thr_img1 = cv2.adaptiveThreshold(img1_gray,255,cv2.ADAPTIVE_THRESH_GAUSSIAN_C, cv2.THRESH_BINARY,15,8)\n",
    "\n",
    "plt.imshow(adaptive_thr_img1, cmap='gray')"
   ]
  },
  {
   "cell_type": "markdown",
   "id": "66d9a817",
   "metadata": {},
   "source": [
    "# Blur an image using Neighborhood Operation\n",
    "\n",
    "A Neighborhood Operation is a commonly used class of computations on image data which implies that it is processed according to the following pseudo code:\n",
    "```\n",
    "Visit each point p in the image data and do {\n",
    "     N = a neighborhood or region of the image data around the point p\n",
    "     result(p) = f(N) \n",
    "}\n",
    "```\n",
    "\n",
    "**Example: The box blur is a straightforward blur in which each pixel is set to the average of the pixels surrounding it**"
   ]
  },
  {
   "cell_type": "code",
   "execution_count": null,
   "id": "5643af8c",
   "metadata": {},
   "outputs": [],
   "source": [
    "# Fresh Read an image with puppy and person in grayscale \n",
    "img1 = cv2.imread('images/372.jpg')\n",
    "img1 = cv2.cvtColor(img1, cv2.COLOR_BGR2RGB)\n",
    "plt.imshow(img1)"
   ]
  },
  {
   "cell_type": "code",
   "execution_count": null,
   "id": "ea80dc96",
   "metadata": {},
   "outputs": [],
   "source": [
    "blur_img1 = cv2.blur(img1, (5,5))\n",
    "plt.imshow(blur_img1)"
   ]
  },
  {
   "cell_type": "markdown",
   "id": "81e0c150",
   "metadata": {},
   "source": [
    "**Using Median Blur**\n",
    "In Median Blur, the central element of the image is replaced by the median of all the pixels in the kernel area. This operation processes the edges while removing the noise."
   ]
  },
  {
   "cell_type": "code",
   "execution_count": null,
   "id": "1f2ad9f4",
   "metadata": {},
   "outputs": [],
   "source": [
    "blur_img2 = cv2.medianBlur(img1, 5)\n",
    "plt.imshow(blur_img2)"
   ]
  },
  {
   "cell_type": "markdown",
   "id": "f36ed27c",
   "metadata": {},
   "source": [
    "# Drawing on images\n",
    "\n",
    "- You can easily draw shapes on the images such as rectangle, circle, lines which can be used for highlighting objects"
   ]
  },
  {
   "cell_type": "code",
   "execution_count": null,
   "id": "27ec309a",
   "metadata": {},
   "outputs": [],
   "source": [
    "# Fresh Read an image with puppy and person in grayscale \n",
    "img1 = cv2.imread('images/372.jpg')\n",
    "img1 = cv2.cvtColor(img1, cv2.COLOR_BGR2RGB)\n",
    "plt.imshow(img1)\n",
    "\n",
    "print(\"Printing img1 shape for pixel reference: \", img1.shape)"
   ]
  },
  {
   "cell_type": "markdown",
   "id": "265b3137",
   "metadata": {},
   "source": [
    "**Drawing Rectangle**\n",
    "cv2.rectangle takes in source image, top left pixel coordinates, bottom right coordinates, color of the rectangle, thickness ad line type"
   ]
  },
  {
   "cell_type": "code",
   "execution_count": null,
   "id": "06de9318",
   "metadata": {},
   "outputs": [],
   "source": [
    "# pt1 = top left\n",
    "# pt2 = bottom right\n",
    "# color=(0,255,0) means green color of rectangle RGB\n",
    "cv2.rectangle(img1,pt1=(124,80),pt2=(460,228),color=(0,255,0),thickness=5)\n",
    "plt.imshow(img1)"
   ]
  },
  {
   "cell_type": "markdown",
   "id": "46724292",
   "metadata": {},
   "source": [
    "**Drawing Circle**\n",
    "Provide center of the circle and radius besides color of the circle and thickness"
   ]
  },
  {
   "cell_type": "code",
   "execution_count": null,
   "id": "2d4c97f8",
   "metadata": {
    "scrolled": true
   },
   "outputs": [],
   "source": [
    "# color=(255,0,0) means red RGB\n",
    "cv2.circle(img=img1, center=(200,150), radius=70, color=(255,0,0), thickness=5)\n",
    "plt.imshow(img1)"
   ]
  },
  {
   "cell_type": "markdown",
   "id": "bc9259a0",
   "metadata": {},
   "source": [
    "**Putting Text on Image**"
   ]
  },
  {
   "cell_type": "code",
   "execution_count": null,
   "id": "1b70bc22",
   "metadata": {},
   "outputs": [],
   "source": [
    "font = cv2.FONT_HERSHEY_SIMPLEX\n",
    "cv2.putText(img1,text='Cute Dog',org=(10,300), fontFace=font,fontScale= 2,color=(255,255,255),thickness=2,lineType=cv2.LINE_AA)\n",
    "plt.imshow(img1)"
   ]
  },
  {
   "cell_type": "code",
   "execution_count": null,
   "id": "ca7d59ef",
   "metadata": {},
   "outputs": [],
   "source": []
  }
 ],
 "metadata": {
  "kernelspec": {
   "display_name": "Python 3",
   "language": "python",
   "name": "python3"
  },
  "language_info": {
   "codemirror_mode": {
    "name": "ipython",
    "version": 3
   },
   "file_extension": ".py",
   "mimetype": "text/x-python",
   "name": "python",
   "nbconvert_exporter": "python",
   "pygments_lexer": "ipython3",
   "version": "3.8.8"
  }
 },
 "nbformat": 4,
 "nbformat_minor": 5
}
