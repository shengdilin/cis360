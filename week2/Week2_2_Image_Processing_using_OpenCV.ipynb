{
 "cells": [
  {
   "cell_type": "markdown",
   "id": "684c3deb",
   "metadata": {},
   "source": [
    "# Image Processing using OpenCV\n",
    "\n",
    "OpenCV along with Numpy array operations provides easy way to perform various operations on the image. Let's explore a few"
   ]
  },
  {
   "cell_type": "code",
   "execution_count": null,
   "id": "cfe21063",
   "metadata": {},
   "outputs": [],
   "source": [
    "# Import the OpenCV library\n",
    "import cv2\n",
    "\n",
    "import numpy as np\n",
    "import matplotlib.pyplot as plt\n",
    "%matplotlib inline"
   ]
  },
  {
   "cell_type": "code",
   "execution_count": null,
   "id": "e94b493d",
   "metadata": {},
   "outputs": [],
   "source": [
    "puppy1 = cv2.imread('images/puppy1.jpg')\n",
    "puppy1 = cv2.cvtColor(puppy1, cv2.COLOR_BGR2RGB)\n",
    "plt.imshow(puppy1)"
   ]
  },
  {
   "cell_type": "code",
   "execution_count": null,
   "id": "49c0b0e5",
   "metadata": {},
   "outputs": [],
   "source": [
    "print(\"Original shape of the puppy1 image: \", puppy1.shape)"
   ]
  },
  {
   "cell_type": "markdown",
   "id": "097a7a2f",
   "metadata": {},
   "source": [
    "### Resizing an image"
   ]
  },
  {
   "cell_type": "code",
   "execution_count": null,
   "id": "84be9901",
   "metadata": {},
   "outputs": [],
   "source": [
    "resized_puppy1 = cv2.resize(puppy1, (150, 350))\n",
    "print(\"Shape of the resized puppy1 image: \", resized_puppy1.shape)\n",
    "\n",
    "# Visualized resized puppy1 image\n",
    "plt.imshow(resized_puppy1)"
   ]
  },
  {
   "cell_type": "code",
   "execution_count": null,
   "id": "0f30ea87",
   "metadata": {},
   "outputs": [],
   "source": [
    "## You can also resize using a ratio for height and width\n",
    "w_ratio = 1.5\n",
    "h_ratio = 0.5"
   ]
  },
  {
   "cell_type": "code",
   "execution_count": null,
   "id": "06249a51",
   "metadata": {},
   "outputs": [],
   "source": [
    "resized_puppy2 =cv2.resize(puppy1,(0,0),puppy1,w_ratio,h_ratio)\n",
    "plt.imshow(resized_puppy2)"
   ]
  },
  {
   "cell_type": "markdown",
   "id": "b41886aa",
   "metadata": {},
   "source": [
    "### Flipping images using flip method of cv2. Flip along the horizontal(0), the vertical(1) or both(-1) axes"
   ]
  },
  {
   "cell_type": "code",
   "execution_count": null,
   "id": "54804417",
   "metadata": {},
   "outputs": [],
   "source": [
    "flipped_ppy1 = cv2.flip(puppy1, 0)\n",
    "plt.imshow(flipped_ppy1)"
   ]
  },
  {
   "cell_type": "code",
   "execution_count": null,
   "id": "8952e4f3",
   "metadata": {},
   "outputs": [],
   "source": [
    "flipped_ppy1 = cv2.flip(puppy1, 1)\n",
    "plt.imshow(flipped_ppy1)"
   ]
  },
  {
   "cell_type": "code",
   "execution_count": null,
   "id": "8071c72b",
   "metadata": {},
   "outputs": [],
   "source": [
    "flipped_ppy1 = cv2.flip(puppy1, -1)\n",
    "plt.imshow(flipped_ppy1)"
   ]
  },
  {
   "cell_type": "markdown",
   "id": "ca49ac3c",
   "metadata": {},
   "source": [
    "### Saving image file using OpenCV\n",
    "\n",
    "- imread to read images\n",
    "- imwrite to write images"
   ]
  },
  {
   "cell_type": "code",
   "execution_count": null,
   "id": "607a44bf",
   "metadata": {},
   "outputs": [],
   "source": [
    "## Let's save above flipped image of the puppy1 to a new file\n",
    "#store the BGR version of the image.\n",
    "cv2.imwrite(\"flipped_puppy1.jpg\", flipped_ppy1)"
   ]
  },
  {
   "cell_type": "markdown",
   "id": "5338d6cf",
   "metadata": {},
   "source": [
    "### Negative image\n",
    "\n",
    "In this operation digital negative operation is performed which converts the image to is negative image. In a binary image this operation converts the black pixel to white and vice versa."
   ]
  },
  {
   "cell_type": "code",
   "execution_count": null,
   "id": "27f3c501",
   "metadata": {},
   "outputs": [],
   "source": [
    "# Read an image with puppy and person in grayscale \n",
    "img1_gray = cv2.imread('images/372.jpg', cv2.IMREAD_GRAYSCALE)\n",
    "plt.imshow(img1_gray, cmap=\"gray\")"
   ]
  },
  {
   "cell_type": "code",
   "execution_count": null,
   "id": "2158490e",
   "metadata": {},
   "outputs": [],
   "source": [
    "puppy1_negative = 255 - img1_gray\n",
    "plt.imshow(puppy1_negative, cmap=\"gray\")"
   ]
  },
  {
   "cell_type": "code",
   "execution_count": null,
   "id": "a95f3e2e",
   "metadata": {},
   "outputs": [],
   "source": []
  }
 ],
 "metadata": {
  "kernelspec": {
   "display_name": "Python 3",
   "language": "python",
   "name": "python3"
  },
  "language_info": {
   "codemirror_mode": {
    "name": "ipython",
    "version": 3
   },
   "file_extension": ".py",
   "mimetype": "text/x-python",
   "name": "python",
   "nbconvert_exporter": "python",
   "pygments_lexer": "ipython3",
   "version": "3.8.8"
  }
 },
 "nbformat": 4,
 "nbformat_minor": 5
}
