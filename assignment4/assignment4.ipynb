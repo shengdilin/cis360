{
 "cells": [
  {
   "cell_type": "markdown",
   "id": "7dac8e89",
   "metadata": {},
   "source": [
    "# Assignment 4: Shengdi Lin\n",
    "\n",
    "### 3 Practical Applications of Constraint Satisfaction Problems (CSP):\n",
    "1. Natural Language Processing (NLP): In various NLP tasks such as syntactic parsing, semantic analysis, and language generation, CSPs can be used to enforce linguistic constraints. For example, in syntactic parsing, CSPs can help in constructing parse trees that adhere to grammar rules and word dependencies. In semantic analysis, CSPs can assist in resolving ambiguities and inconsistencies in language understanding by enforcing constraints based on semantic rules and contextual information. This allows for the return of results, such as in ChatGPT, that make actual sense because they follow the convention of our semantics. \n",
    "\n",
    "2. Resource Allocation: CSPs can be employed to model these allocation problems and find solutions that maximize resource utilization while ensuring timely results, staff satisfaction, and operational efficiency. One example is healthcare, where resource allocation is seen in tasks such as assigning hospital beds, scheduling surgeries, or allocating medical staff. These involve dealing with multiple constraints like resource availability, patient urgency, and medical staff preferences.\n",
    "\n",
    "3. Timetabling and Course Scheduling: Educational institutions face challenges in creating timetables and schedules for classes, exams, and other academic activities that satisfy various constraints like room availability, faculty preferences, course prerequisites, and student preferences. CSPs can be applied to generate optimal timetables that minimize conflicts and maximize resource utilization while meeting all constraints. This can lead to more efficient use of resources and improved academic outcomes for students.\n"
   ]
  },
  {
   "cell_type": "markdown",
   "id": "7523de26",
   "metadata": {},
   "source": [
    "## Why is Sudoku a Constraint Satisfaction Problem?\n",
    "Sudoku has two sets of main rules. All boxes in a 3x3 grid must have one instance of each number 1-9. All rows and columns must contain the numbers 1-9. Following these two rules, one can attempt to solve for the goal state, where the entire grid is filled and the above rules are satisfied. There is only one unique goal state. There are a set number of total scenarios that are possible, making it a discrete environment. The sudoku also does not change, making its environment static. The sudoka is entirely observable, meaning no information is withdrawn besides what we are solving for, and since the next state of the environment is completely determined by the current state and the actions of the agent (the solver), then the environment is also deterministic. **By setting these rules and transcribing it into code, we can approach solving sudokus as a constraint satisfaction problem.**\n",
    "\n",
    "These rules allow for when one state gets updated, you can get to the solution by getting to state to state. There are two main rules:\n",
    "\n",
    "(1) If a square has only one possible value, then eliminate that value from the square's peers (rows, cols, squares)\n",
    "(2) If a unit has only one possible place for a value, then put the value there.\n",
    "\n",
    "As an example of strategy (1) if we assign 7 to A1 (the top left spot), we see that A1 has only one value, and thus the 7 can be removed from its peer A2 (and all other peers). As a separate example of strategy (2), if it turns out that none of A2 through A9 has a 3 as a possible value, then the 3 must belong in A1. This process is called constraint propagation, because we use set constraints to move through different states with the arrival of more and more information building on each other. \n",
    "\n",
    "\n"
   ]
  },
  {
   "cell_type": "code",
   "execution_count": 2,
   "id": "423e272f",
   "metadata": {},
   "outputs": [],
   "source": [
    "def cross(A, B):\n",
    "    \"Cross product of elements in A and elements in B.\"\n",
    "    return [a+b for a in A for b in B]\n",
    "\n",
    "digits   = '123456789'\n",
    "rows     = 'ABCDEFGHI'\n",
    "cols     = digits\n",
    "squares  = cross(rows, cols)\n",
    "unitlist = ([cross(rows, c) for c in cols] +\n",
    "            [cross(r, cols) for r in rows] +\n",
    "            [cross(rs, cs) for rs in ('ABC','DEF','GHI') for cs in ('123','456','789')])\n",
    "#For each unit, tie it to all peers it has categorized in three relationships (rows, cols, squares) and have each relationship type as one array\n",
    "units = dict((s, [u for u in unitlist if s in u]) \n",
    "             for s in squares)\n",
    "#For each unit, tie it to all its peers in EVERY relationship\n",
    "peers = dict((s, set(sum(units[s],[]))-set([s]))\n",
    "             for s in squares)"
   ]
  },
  {
   "cell_type": "markdown",
   "id": "9aaeb2ad",
   "metadata": {},
   "source": [
    "Create an initial test to see if everything has been structured correctly. "
   ]
  },
  {
   "cell_type": "code",
   "execution_count": 3,
   "id": "2874e811",
   "metadata": {},
   "outputs": [
    {
     "name": "stdout",
     "output_type": "stream",
     "text": [
      "All tests pass.\n"
     ]
    }
   ],
   "source": [
    "#THIS WAS CREATED TO CREATE A TEST TO ENSURE THAT THE STRUCTURE OF THE SUDOKU IS SET UP CORRECTLY \n",
    "#CHECKS THE CELL C2 SPECIFICALLY FOR UNITS AND PEERS  \n",
    "def test():\n",
    "    \"A set of unit tests.\"\n",
    "    assert len(squares) == 81\n",
    "    assert len(unitlist) == 27\n",
    "    assert all(len(units[s]) == 3 for s in squares)\n",
    "    assert all(len(peers[s]) == 20 for s in squares)\n",
    "    assert units['C2'] == [['A2', 'B2', 'C2', 'D2', 'E2', 'F2', 'G2', 'H2', 'I2'],\n",
    "                           ['C1', 'C2', 'C3', 'C4', 'C5', 'C6', 'C7', 'C8', 'C9'],\n",
    "                           ['A1', 'A2', 'A3', 'B1', 'B2', 'B3', 'C1', 'C2', 'C3']]\n",
    "    assert peers['C2'] == set(['A2', 'B2', 'D2', 'E2', 'F2', 'G2', 'H2', 'I2',\n",
    "                               'C1', 'C3', 'C4', 'C5', 'C6', 'C7', 'C8', 'C9',\n",
    "                               'A1', 'A3', 'B1', 'B3'])\n",
    "    print ('All tests pass.')\n",
    "\n",
    "test()"
   ]
  },
  {
   "cell_type": "markdown",
   "id": "589c2096",
   "metadata": {},
   "source": [
    "Our values will be a dict with squares as keys. The value of each key will be the possible digits for that square: a single digit if it was given as part of the puzzle definition or if we have figured out what it must be, and a collection of several digits if we are still uncertain. We have already defined that each row is assigned a letter from \"A-I\" and each column is assigned a number \"1-9\". Now let's figure out how to read in our data appropriately. \n",
    "\n",
    "We will need two representations of the sudoku grid: First, a textual format used to specify the initial state of a puzzle; we will reserve the name **GRID** for this. \n",
    "\n",
    "Second, an internal representation of any state of a puzzle, partially solved or complete; this we will call a **VALUES** collection because it will give all the remaining possible values for each square. \n",
    "\n",
    "For the textual format (grid) we'll allow a string of characters with 1-9 indicating a digit, and a 0 or period specifying an empty square. All other characters are ignored (including spaces, newlines, dashes, and bars) when it is initially read in. \n",
    "\n",
    "Let' start by creating a method that allows us to create our VALUES collection from a GRID of numbers. Then, we will create an additional method to create a GRID of numbers from an user-inputted sudoku puzzle. "
   ]
  },
  {
   "cell_type": "code",
   "execution_count": 14,
   "id": "3ee389e8",
   "metadata": {},
   "outputs": [],
   "source": [
    "def parse_grid(grid):\n",
    "    \"\"\"Take the grid given and return it in an appropriate fashion\n",
    "    for displaying.\"\"\"\n",
    "    values = dict((s, 0) for s in squares)\n",
    "    place = 0\n",
    "    for s in squares:\n",
    "        values[s] = grid[place]\n",
    "        place += 1\n",
    "    return values\n",
    "\n",
    "def solve_grid(grid):\n",
    "    \"\"\"Convert grid to a dict of possible values, {square: digits}, or\n",
    "    return False if a contradiction is detected.\"\"\"\n",
    "    ## To start, every square can be any digit; then assign values from the grid.\n",
    "    values = dict((s, digits) for s in squares)\n",
    "    for s,d in grid_values(grid).items():\n",
    "        if d in digits and not assign(values, s, d):\n",
    "            return False ## (Fail if we can't assign d to square s.)\n",
    "    return values\n",
    "\n",
    "def grid_values(grid):\n",
    "    \"Convert grid into a dict of {square: char} with '0' or '.' for empties.\"\n",
    "    chars = [c for c in grid if c in digits or c in '0.']\n",
    "    assert len(chars) == 81\n",
    "    return dict(zip(squares, chars))"
   ]
  },
  {
   "cell_type": "markdown",
   "id": "b9fb63e9",
   "metadata": {},
   "source": [
    "Now, we need to create code to eliminate possible scenarios that comes with new information. This new information is \"sent\" to the new state through the assign method. "
   ]
  },
  {
   "cell_type": "code",
   "execution_count": 6,
   "id": "9541fdaa",
   "metadata": {},
   "outputs": [],
   "source": [
    "def assign(values, s, d):\n",
    "    \"\"\"Eliminate all the other values (except d) from values[s] and propagate.\n",
    "    Return values, except return False if a contradiction is detected.\"\"\"\n",
    "    other_values = values[s].replace(d, '')\n",
    "    if all(eliminate(values, s, d2) for d2 in other_values):\n",
    "        return values\n",
    "    else:\n",
    "        return False\n",
    "\n",
    "def eliminate(values, s, d):\n",
    "    \"\"\"Eliminate d from values[s]; propagate when values or places <= 2.\n",
    "    Return values, except return False if a contradiction is detected.\"\"\"\n",
    "    if d not in values[s]:\n",
    "        return values ## Already eliminated\n",
    "    else:\n",
    "        values[s] = values[s].replace(d,'')\n",
    "        ## (1) If a square s is reduced to one value d2, then eliminate d2 from the peers.\n",
    "        if len(values[s]) == 0:\n",
    "            return False ## Contradiction: removed last valu\n",
    "        elif len(values[s]) == 1:\n",
    "            d2 = values[s]\n",
    "            if not all(eliminate(values, s2, d2) for s2 in peers[s]):\n",
    "                return False\n",
    "        ## (2) If a unit u is reduced to only one place for a value d, then put it there.\n",
    "        else:\n",
    "            for u in units[s]:\n",
    "                dplaces = [s for s in u if d in values[s]]\n",
    "            if len(dplaces) == 0:\n",
    "                return False ## Contradiction: no place for this value\n",
    "            elif len(dplaces) == 1:\n",
    "                # d can only be in one place in unit; assign it there\n",
    "                if not assign(values, dplaces[0], d):\n",
    "                    return False\n",
    "    return values"
   ]
  },
  {
   "cell_type": "markdown",
   "id": "1f4bae10",
   "metadata": {},
   "source": [
    "Now that we have our assign and eliminate methods that look for and eliminiate scenarios that violate our rules, we should create a way to display the sudoku puzzle. "
   ]
  },
  {
   "cell_type": "code",
   "execution_count": 11,
   "id": "95ea27dd",
   "metadata": {},
   "outputs": [],
   "source": [
    "def display(values):\n",
    "    \"Display these values as a 2-D grid.\"\n",
    "    width = 1+max(len(values[s]) for s in squares)\n",
    "    line = '+'.join(['-'*(width*3)]*3)\n",
    "    for r in rows:\n",
    "        print (''.join(values[r+c].center(width)+('|' if c in '36' else '')\n",
    "                      for c in cols))\n",
    "        if r in 'CF': \n",
    "            print(line)\n",
    "    print\n"
   ]
  },
  {
   "cell_type": "markdown",
   "id": "9aea5e1b",
   "metadata": {},
   "source": [
    "Let us load a sample grid and display it from the kaggle dataset, found here: https://www.kaggle.com/datasets/rohanrao/sudoku?select=sudoku.csv"
   ]
  },
  {
   "cell_type": "code",
   "execution_count": 17,
   "id": "353a7e0f",
   "metadata": {},
   "outputs": [
    {
     "name": "stdout",
     "output_type": "stream",
     "text": [
      "0 4 8 |3 0 1 |5 6 0 \n",
      "3 6 0 |0 0 8 |0 9 0 \n",
      "9 1 0 |6 7 0 |0 0 3 \n",
      "------+------+------\n",
      "0 2 0 |0 0 0 |9 3 5 \n",
      "5 0 9 |0 1 0 |2 0 0 \n",
      "6 7 0 |0 2 0 |0 1 0 \n",
      "------+------+------\n",
      "0 0 4 |0 0 2 |1 0 7 \n",
      "0 9 0 |1 0 0 |0 0 8 \n",
      "1 5 0 |8 3 4 |0 2 9 \n"
     ]
    }
   ],
   "source": [
    "grid1 = \"048301560360008090910670003020000935509010200670020010004002107090100008150834029\"\n",
    "display(parse_grid(grid1))\n"
   ]
  },
  {
   "cell_type": "markdown",
   "id": "5af73e7d",
   "metadata": {},
   "source": [
    "Display the solved grid:"
   ]
  },
  {
   "cell_type": "code",
   "execution_count": 18,
   "id": "dbfebb1e",
   "metadata": {},
   "outputs": [
    {
     "name": "stdout",
     "output_type": "stream",
     "text": [
      "7 4 8 |3 9 1 |5 6 2 \n",
      "3 6 5 |2 4 8 |7 9 1 \n",
      "9 1 2 |6 7 5 |4 8 3 \n",
      "------+------+------\n",
      "4 2 1 |7 8 6 |9 3 5 \n",
      "5 8 9 |4 1 3 |2 7 6 \n",
      "6 7 3 |5 2 9 |8 1 4 \n",
      "------+------+------\n",
      "8 3 4 |9 6 2 |1 5 7 \n",
      "2 9 6 |1 5 7 |3 4 8 \n",
      "1 5 7 |8 3 4 |6 2 9 \n"
     ]
    }
   ],
   "source": [
    "display(solve_grid(grid1))"
   ]
  },
  {
   "cell_type": "markdown",
   "id": "4cf98150",
   "metadata": {},
   "source": [
    "However, there are certain instances where the two above rules **DON'T** get us completely to the end solution. We will show an example below:"
   ]
  },
  {
   "cell_type": "code",
   "execution_count": 19,
   "id": "6eddb43d",
   "metadata": {},
   "outputs": [
    {
     "name": "stdout",
     "output_type": "stream",
     "text": [
      "4 . . |. . . |8 . 5 \n",
      ". 3 . |. . . |. . . \n",
      ". . . |7 . . |. . . \n",
      "------+------+------\n",
      ". 2 . |. . . |. 6 . \n",
      ". . . |. 8 . |4 . . \n",
      ". . . |. 1 . |. . . \n",
      "------+------+------\n",
      ". . . |6 . 3 |. 7 . \n",
      "5 . . |2 . . |. . . \n",
      "1 . 4 |. . . |. . . \n"
     ]
    }
   ],
   "source": [
    "grid2 = '4.....8.5.3..........7......2.....6.....8.4......1.......6.3.7.5..2.....1.4......'\n",
    "display(parse_grid(grid2))"
   ]
  },
  {
   "cell_type": "markdown",
   "id": "0a122a6b",
   "metadata": {},
   "source": [
    "Let us try to solve it with our method above."
   ]
  },
  {
   "cell_type": "code",
   "execution_count": 20,
   "id": "0fefb9b2",
   "metadata": {},
   "outputs": [
    {
     "name": "stdout",
     "output_type": "stream",
     "text": [
      "   4      1679   12679  |  139     2369    269   |   8      1239     5    \n",
      " 26789     3    1256789 | 14589   24569   245689 | 12679    1249   124679 \n",
      "  2689   15689   125689 |   7     234569  245689 | 12369   12349   123469 \n",
      "------------------------+------------------------+------------------------\n",
      "  3789     2     15789  |  3459   34579    4579  | 13579     6     13789  \n",
      "  3679   15679   15679  |  359      8     25679  |   4     12359   12379  \n",
      " 36789     4     56789  |  359      1     25679  | 23579   23589   23789  \n",
      "------------------------+------------------------+------------------------\n",
      "  289      89     289   |   6      459      3    |  1259     7     12489  \n",
      "   5      6789     3    |   2      479      1    |   69     489     4689  \n",
      "   1      6789     4    |  589     579     5789  | 23569   23589   23689  \n"
     ]
    }
   ],
   "source": [
    "display(solve_grid(grid2))"
   ]
  },
  {
   "cell_type": "markdown",
   "id": "e24e5a7a",
   "metadata": {},
   "source": [
    "Evidently, there are still many possible states for this sudoku puzzle. Even though there is one unique solution, **WE NEED TO TAKE THE EXTRA STEP OF CONSIDERING POSSIBLE SCENARIOS AND DELETING THEM IF THEY DO NOT WORK**. To do so we have a few things to consider. \n",
    "\n",
    "First, that whenever we make a decision for the possible states, we eliminate a ton of possibilities. In square H7 of our grid2, we have two possibilities, 6 and 9. We can try 9 and quickly see that there is a contradiction. That means we've eliminated not just one possibility, but fully half of the possible choices that had included 9 in spot H7. \n",
    "\n",
    "Second, how we search through these possible scenarios. First make sure we haven't already found a solution or a contradiction using the code we already have. If we do not, we choose one unfilled square and consider all its possible values. One at a time, we try assigning the square's possible values and searching from the resulting position. In other words, we search for a value $d$ such that we can successfully search for a solution from the result of assigning $d$ to that square. If the search leads to an failed position, go back and consider another value of $d$. This is a **depth-first search** because we are recursively considering all possibilities for assigning $d$ to a square before we consider a different value of $d$ for that square.\n",
    "\n",
    "Third, we create this as a **backtracking search** by keeping track of each change to values and undo the changes when we hit a dead end. By doing so, we move back up to the highest level where a possible candidate exists and continue going through the possibilities. "
   ]
  },
  {
   "cell_type": "code",
   "execution_count": 32,
   "id": "4ecf6623",
   "metadata": {},
   "outputs": [],
   "source": [
    "# Take it to the next step and complete solving the sudoku grid given possible states\n",
    "def solveComplete(grid): \n",
    "    toGrid = solve_grid(grid)\n",
    "    return search(toGrid)\n",
    "\n",
    "# Go through possibilities, first with squares that have least possible values \n",
    "# We update values so that if one scenario is not possible, all other possible values for other peers track that as no longer a possibility\n",
    "def search(values):\n",
    "    \"Using depth-first search and propagation, try all possible values.\"\n",
    "    if values is False:\n",
    "        return False ## Failed earlier\n",
    "    if all(len(values[s]) == 1 for s in squares): \n",
    "        return values ## Solved!\n",
    "    ## Chose the unfilled square s with the fewest possibilities\n",
    "    n,s = min((len(values[s]), s) for s in squares if len(values[s]) > 1)\n",
    "    return some(search(assign(values.copy(), s, d)) \n",
    "\t\tfor d in values[s])\n",
    "\n",
    "# What we use to backtrack -- as stated in above, if it fails we mark as failed (dead end)\n",
    "# and go to another possibility in the sequence of possible numbers for that square s\n",
    "def some(seq):\n",
    "    \"Return some element of seq that is true.\"\n",
    "    for e in seq:\n",
    "        if e: return e\n",
    "    return False"
   ]
  },
  {
   "cell_type": "code",
   "execution_count": 33,
   "id": "f09296e1",
   "metadata": {},
   "outputs": [
    {
     "name": "stdout",
     "output_type": "stream",
     "text": [
      "4 1 7 |3 6 9 |8 2 5 \n",
      "6 3 2 |1 5 8 |9 4 7 \n",
      "9 5 8 |7 2 4 |3 1 6 \n",
      "------+------+------\n",
      "8 2 5 |4 3 7 |1 6 9 \n",
      "7 9 1 |5 8 6 |4 3 2 \n",
      "3 4 6 |9 1 2 |7 5 8 \n",
      "------+------+------\n",
      "2 8 9 |6 4 3 |5 7 1 \n",
      "5 7 3 |2 9 1 |6 8 4 \n",
      "1 6 4 |8 7 5 |2 9 3 \n"
     ]
    }
   ],
   "source": [
    "display(solveComplete(grid2))"
   ]
  },
  {
   "cell_type": "markdown",
   "id": "293bab46",
   "metadata": {},
   "source": [
    "So, now we can see that using back-tracking and constraint propropogation, we can create a sudoku solver that considers all possible scenarios to arrive at the one goal state. We will use more sudokus from kaggle to see how it performs. First, let's import the dataset from kaggle and show the first entry and its solution: https://www.kaggle.com/datasets/rohanrao/sudoku?select=sudoku.csv\n",
    "\n",
    "ENSURE YOU HAVE THIS KAGGLE DATASET DOWNLOADED IN THE SAME DIRECTORY AS DETAILED IN THE README"
   ]
  },
  {
   "cell_type": "code",
   "execution_count": 38,
   "id": "70024d50",
   "metadata": {},
   "outputs": [],
   "source": [
    "# import appropriate libraries\n",
    "import random as ran\n",
    "import csv\n",
    "import time\n",
    "import numpy as np"
   ]
  },
  {
   "cell_type": "code",
   "execution_count": 44,
   "id": "3a760d0f",
   "metadata": {},
   "outputs": [
    {
     "name": "stdout",
     "output_type": "stream",
     "text": [
      "arr1 first element: 070000043040009610800634900094052000358460020000800530080070091902100005007040802\n",
      "arr2 first element: 679518243543729618821634957794352186358461729216897534485276391962183475137945862\n"
     ]
    }
   ],
   "source": [
    "# Initialize empty arrays to store data from CSV\n",
    "arr1 = []\n",
    "arr2 = []\n",
    "\n",
    "# Open the CSV file for reading\n",
    "with open('sudoku.csv', newline='') as csvfile:\n",
    "    # Create a CSV reader object\n",
    "    reader = csv.reader(csvfile)\n",
    "    \n",
    "    # Iterate over each row in the CSV file\n",
    "    for row in reader:\n",
    "        # Append the first column to arr1 and the second column to arr2\n",
    "        arr1.append(row[0])\n",
    "        arr2.append(row[1])\n",
    "\n",
    "# delete headers\n",
    "del arr1[0]\n",
    "del arr2[0]\n",
    "\n",
    "\n",
    "# Now arr1 and arr2 contain the data from column 1 and column 2 respectively\n",
    "print(\"arr1 first element:\", arr1[0])\n",
    "print(\"arr2 first element:\", arr2[0])"
   ]
  },
  {
   "cell_type": "code",
   "execution_count": 68,
   "id": "a4d2fa0d",
   "metadata": {},
   "outputs": [],
   "source": [
    "# Go through trials with our model and display results for each trial as well as a summary of performance. \n",
    "def trials(numTrials): \n",
    "    # take n random samples and see how it did as well as how long it took to solve for each one\n",
    "    timeTaken = []\n",
    "    numRight = 0\n",
    "    for i in range(numTrials):\n",
    "        rand = ran.randint(0, len(arr1))\n",
    "        given = parse_grid(arr1[rand])\n",
    "        solu = parse_grid(arr2[rand])\n",
    "        start_time = time.time() # time taken also takes into account writing the solution out to object solved\n",
    "        solved = solveComplete(arr1[rand])\n",
    "        end_time = time.time()\n",
    "\n",
    "        duration = end_time - start_time\n",
    "        # get all the timed durations \n",
    "        timeTaken.append(duration)\n",
    "\n",
    "        # print the sudokus and times\n",
    "        print(\"Sudoku #\", i+1, \"(given): \")\n",
    "        display(given)\n",
    "        print(\"Sudoku #\", i+1, \"(solved):\")\n",
    "        display(solved)\n",
    "        # if they match, add to number of correct givens.\n",
    "        if solved == solu:\n",
    "            numRight = numRight + 1\n",
    "        print(\"Time taken: \", duration)\n",
    "        \n",
    "    #get average time taken\n",
    "    average = np.mean(timeTaken)\n",
    "    # Round the average to 6 decimal points\n",
    "    rounded_average = round(average, 6)\n",
    "    print()\n",
    "    print(\"SUMMARY: \")\n",
    "    print(\"Out of\", numTrials,\"total sudokus, our model had\", numRight, \"correct solves\")\n",
    "    print(\"The model took an average of\", rounded_average, \"seconds for each iteration of solving\")\n",
    "\n",
    "# Create a summary ONLY function \n",
    "def massTrials(numTrials): \n",
    "    # take n random samples and return a summary ONLY of results\n",
    "    timeTaken = []\n",
    "    numRight = 0\n",
    "    for i in range(numTrials):\n",
    "        rand = ran.randint(0, len(arr1))\n",
    "        given = parse_grid(arr1[rand])\n",
    "        solu = parse_grid(arr2[rand])\n",
    "        start_time = time.time() # time taken also takes into account writing the solution out to object solved\n",
    "        solved = solveComplete(arr1[rand])\n",
    "        end_time = time.time()\n",
    "\n",
    "        duration = end_time - start_time\n",
    "        # get all the timed durations \n",
    "        timeTaken.append(duration)\n",
    "\n",
    "        # if they match, add to number of correct givens.\n",
    "        if solved == solu:\n",
    "            numRight = numRight + 1\n",
    "        \n",
    "    #get average time taken\n",
    "    average = np.mean(timeTaken)\n",
    "    # Round the average to 6 decimal points\n",
    "    rounded_average = round(average, 6)\n",
    "    print()\n",
    "    print(\"SUMMARY: \")\n",
    "    print(\"Out of\", numTrials,\"total sudokus, our model had\", numRight, \"correct solves\")\n",
    "    print(\"The model took an average of\", rounded_average, \"seconds for each iteration of solving\")"
   ]
  },
  {
   "cell_type": "code",
   "execution_count": 73,
   "id": "73e83d63",
   "metadata": {},
   "outputs": [
    {
     "name": "stdout",
     "output_type": "stream",
     "text": [
      "Sudoku # 1 (given): \n",
      "0 0 0 |0 4 8 |0 0 9 \n",
      "0 7 3 |9 1 2 |8 0 0 \n",
      "0 9 0 |6 7 5 |0 0 0 \n",
      "------+------+------\n",
      "7 0 9 |0 3 1 |0 4 0 \n",
      "0 1 4 |0 0 6 |0 9 0 \n",
      "6 5 2 |0 8 9 |7 3 0 \n",
      "------+------+------\n",
      "0 2 0 |1 0 3 |4 5 0 \n",
      "5 0 1 |0 0 0 |0 0 0 \n",
      "9 0 7 |0 0 0 |0 1 6 \n",
      "Sudoku # 1 (solved):\n",
      "2 6 5 |3 4 8 |1 7 9 \n",
      "4 7 3 |9 1 2 |8 6 5 \n",
      "1 9 8 |6 7 5 |3 2 4 \n",
      "------+------+------\n",
      "7 8 9 |5 3 1 |6 4 2 \n",
      "3 1 4 |7 2 6 |5 9 8 \n",
      "6 5 2 |4 8 9 |7 3 1 \n",
      "------+------+------\n",
      "8 2 6 |1 9 3 |4 5 7 \n",
      "5 4 1 |2 6 7 |9 8 3 \n",
      "9 3 7 |8 5 4 |2 1 6 \n",
      "Time taken:  0.0032401084899902344\n",
      "Sudoku # 2 (given): \n",
      "4 0 1 |2 9 0 |8 0 6 \n",
      "3 6 9 |7 0 8 |0 0 0 \n",
      "2 0 0 |0 0 0 |9 0 0 \n",
      "------+------+------\n",
      "0 0 6 |0 0 2 |1 5 0 \n",
      "5 3 0 |1 6 0 |0 8 0 \n",
      "7 1 0 |0 5 0 |2 0 0 \n",
      "------+------+------\n",
      "0 0 8 |0 1 7 |0 0 0 \n",
      "0 5 3 |9 8 4 |0 0 2 \n",
      "1 4 7 |0 2 0 |0 9 8 \n",
      "Sudoku # 2 (solved):\n",
      "4 7 1 |2 9 5 |8 3 6 \n",
      "3 6 9 |7 4 8 |5 2 1 \n",
      "2 8 5 |6 3 1 |9 7 4 \n",
      "------+------+------\n",
      "8 9 6 |4 7 2 |1 5 3 \n",
      "5 3 2 |1 6 9 |4 8 7 \n",
      "7 1 4 |8 5 3 |2 6 9 \n",
      "------+------+------\n",
      "9 2 8 |3 1 7 |6 4 5 \n",
      "6 5 3 |9 8 4 |7 1 2 \n",
      "1 4 7 |5 2 6 |3 9 8 \n",
      "Time taken:  0.003907918930053711\n",
      "Sudoku # 3 (given): \n",
      "0 8 3 |0 0 0 |6 5 0 \n",
      "1 7 6 |0 0 0 |0 8 0 \n",
      "0 0 2 |0 8 7 |0 0 1 \n",
      "------+------+------\n",
      "0 1 7 |8 4 6 |3 0 9 \n",
      "2 0 0 |7 0 1 |5 0 8 \n",
      "0 0 0 |9 0 2 |1 0 0 \n",
      "------+------+------\n",
      "0 0 0 |0 7 0 |0 0 0 \n",
      "8 3 0 |5 1 9 |7 0 2 \n",
      "0 0 5 |0 6 8 |0 0 3 \n",
      "Sudoku # 3 (solved):\n",
      "9 8 3 |1 2 4 |6 5 7 \n",
      "1 7 6 |3 9 5 |2 8 4 \n",
      "4 5 2 |6 8 7 |9 3 1 \n",
      "------+------+------\n",
      "5 1 7 |8 4 6 |3 2 9 \n",
      "2 6 9 |7 3 1 |5 4 8 \n",
      "3 4 8 |9 5 2 |1 7 6 \n",
      "------+------+------\n",
      "6 2 1 |4 7 3 |8 9 5 \n",
      "8 3 4 |5 1 9 |7 6 2 \n",
      "7 9 5 |2 6 8 |4 1 3 \n",
      "Time taken:  0.003332853317260742\n",
      "Sudoku # 4 (given): \n",
      "7 9 2 |0 0 1 |3 8 0 \n",
      "5 0 0 |0 8 6 |9 0 2 \n",
      "6 8 3 |0 0 7 |0 4 0 \n",
      "------+------+------\n",
      "0 6 0 |0 0 8 |0 3 4 \n",
      "8 5 0 |2 4 0 |0 1 9 \n",
      "0 0 0 |1 6 0 |0 0 7 \n",
      "------+------+------\n",
      "9 7 8 |0 0 0 |4 2 0 \n",
      "0 2 5 |7 0 0 |0 0 8 \n",
      "0 0 0 |8 0 0 |7 0 0 \n",
      "Sudoku # 4 (solved):\n",
      "7 9 2 |4 5 1 |3 8 6 \n",
      "5 4 1 |3 8 6 |9 7 2 \n",
      "6 8 3 |9 2 7 |5 4 1 \n",
      "------+------+------\n",
      "1 6 9 |5 7 8 |2 3 4 \n",
      "8 5 7 |2 4 3 |6 1 9 \n",
      "2 3 4 |1 6 9 |8 5 7 \n",
      "------+------+------\n",
      "9 7 8 |6 1 5 |4 2 3 \n",
      "3 2 5 |7 9 4 |1 6 8 \n",
      "4 1 6 |8 3 2 |7 9 5 \n",
      "Time taken:  0.003264904022216797\n",
      "Sudoku # 5 (given): \n",
      "9 1 7 |6 0 2 |0 0 4 \n",
      "0 0 0 |0 3 0 |0 1 9 \n",
      "5 0 3 |4 0 0 |8 0 0 \n",
      "------+------+------\n",
      "2 0 0 |0 0 4 |7 0 6 \n",
      "0 0 9 |0 7 0 |0 0 0 \n",
      "0 0 4 |0 0 0 |1 0 5 \n",
      "------+------+------\n",
      "3 0 1 |8 0 0 |0 7 2 \n",
      "0 0 0 |0 0 7 |0 3 0 \n",
      "0 0 5 |2 6 3 |9 0 0 \n",
      "Sudoku # 5 (solved):\n",
      "9 1 7 |6 8 2 |3 5 4 \n",
      "4 8 6 |7 3 5 |2 1 9 \n",
      "5 2 3 |4 9 1 |8 6 7 \n",
      "------+------+------\n",
      "2 5 8 |3 1 4 |7 9 6 \n",
      "1 6 9 |5 7 8 |4 2 3 \n",
      "7 3 4 |9 2 6 |1 8 5 \n",
      "------+------+------\n",
      "3 4 1 |8 5 9 |6 7 2 \n",
      "6 9 2 |1 4 7 |5 3 8 \n",
      "8 7 5 |2 6 3 |9 4 1 \n",
      "Time taken:  0.0036783218383789062\n",
      "\n",
      "SUMMARY: \n",
      "Out of 5 total sudokus, our model had 5 correct solves\n",
      "The model took an average of 0.003485 seconds for each iteration of solving\n"
     ]
    }
   ],
   "source": [
    "ran.seed(360)\n",
    "trials(5)"
   ]
  },
  {
   "cell_type": "markdown",
   "id": "e1597256",
   "metadata": {},
   "source": [
    "Now, we see the results of 5 trials that saw our model get the correct solution at an average speed of roughly 0.0035 seconds. Let's see how it did with larger batches."
   ]
  },
  {
   "cell_type": "code",
   "execution_count": 74,
   "id": "be392fbe",
   "metadata": {},
   "outputs": [
    {
     "name": "stdout",
     "output_type": "stream",
     "text": [
      "\n",
      "SUMMARY: \n",
      "Out of 1000 total sudokus, our model had 1000 correct solves\n",
      "The model took an average of 0.002407 seconds for each iteration of solving\n",
      "\n",
      "SUMMARY: \n",
      "Out of 5000 total sudokus, our model had 5000 correct solves\n",
      "The model took an average of 0.002503 seconds for each iteration of solving\n",
      "\n",
      "SUMMARY: \n",
      "Out of 10000 total sudokus, our model had 10000 correct solves\n",
      "The model took an average of 0.002489 seconds for each iteration of solving\n"
     ]
    }
   ],
   "source": [
    "massTrials(1000)\n",
    "massTrials(5000)\n",
    "massTrials(10000)"
   ]
  },
  {
   "cell_type": "markdown",
   "id": "3c8c7aa5",
   "metadata": {},
   "source": [
    "# Conclusion\n",
    "\n",
    "Our AI agent did well on using backtracking to help in its solving of sudokus using a constraint propogation approach. "
   ]
  }
 ],
 "metadata": {
  "kernelspec": {
   "display_name": "Python 3",
   "language": "python",
   "name": "python3"
  },
  "language_info": {
   "codemirror_mode": {
    "name": "ipython",
    "version": 3
   },
   "file_extension": ".py",
   "mimetype": "text/x-python",
   "name": "python",
   "nbconvert_exporter": "python",
   "pygments_lexer": "ipython3",
   "version": "3.9.15"
  }
 },
 "nbformat": 4,
 "nbformat_minor": 5
}
